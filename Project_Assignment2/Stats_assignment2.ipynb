{
 "cells": [
  {
   "cell_type": "code",
   "execution_count": 36,
   "id": "caae0d86",
   "metadata": {},
   "outputs": [],
   "source": [
    "import pandas as pd\n",
    "import numpy as np\n",
    "import warnings\n",
    "warnings.filterwarnings(\"ignore\")\n",
    "from matplotlib import pyplot as plt\n",
    "from sklearn.model_selection import train_test_split\n",
    "from sklearn import tree\n",
    "from sklearn.preprocessing import LabelEncoder\n",
    "from sklearn.tree import DecisionTreeClassifier\n",
    "from sklearn.naive_bayes import GaussianNB\n",
    "from sklearn.linear_model import LogisticRegression\n",
    "from sklearn.ensemble import AdaBoostClassifier, VotingClassifier\n",
    "from sklearn.ensemble import RandomForestClassifier\n",
    "from sklearn.metrics import confusion_matrix, recall_score,classification_report,accuracy_score"
   ]
  },
  {
   "cell_type": "code",
   "execution_count": 37,
   "id": "3a87bba1",
   "metadata": {},
   "outputs": [
    {
     "data": {
      "text/html": [
       "<div>\n",
       "<style scoped>\n",
       "    .dataframe tbody tr th:only-of-type {\n",
       "        vertical-align: middle;\n",
       "    }\n",
       "\n",
       "    .dataframe tbody tr th {\n",
       "        vertical-align: top;\n",
       "    }\n",
       "\n",
       "    .dataframe thead th {\n",
       "        text-align: right;\n",
       "    }\n",
       "</style>\n",
       "<table border=\"1\" class=\"dataframe\">\n",
       "  <thead>\n",
       "    <tr style=\"text-align: right;\">\n",
       "      <th></th>\n",
       "      <th>make</th>\n",
       "      <th>address</th>\n",
       "      <th>all</th>\n",
       "      <th>3d</th>\n",
       "      <th>our</th>\n",
       "      <th>over</th>\n",
       "      <th>remove</th>\n",
       "      <th>internet</th>\n",
       "      <th>order</th>\n",
       "      <th>mail</th>\n",
       "      <th>...</th>\n",
       "      <th>semicol</th>\n",
       "      <th>paren</th>\n",
       "      <th>bracket</th>\n",
       "      <th>bang</th>\n",
       "      <th>dollar</th>\n",
       "      <th>pound</th>\n",
       "      <th>cap_avg</th>\n",
       "      <th>cap_long</th>\n",
       "      <th>cap_total</th>\n",
       "      <th>Class</th>\n",
       "    </tr>\n",
       "  </thead>\n",
       "  <tbody>\n",
       "    <tr>\n",
       "      <th>0</th>\n",
       "      <td>0.00</td>\n",
       "      <td>0.00</td>\n",
       "      <td>0.29</td>\n",
       "      <td>0.0</td>\n",
       "      <td>0.00</td>\n",
       "      <td>0.00</td>\n",
       "      <td>0.00</td>\n",
       "      <td>0.00</td>\n",
       "      <td>0.00</td>\n",
       "      <td>0.00</td>\n",
       "      <td>...</td>\n",
       "      <td>0.000</td>\n",
       "      <td>0.178</td>\n",
       "      <td>0.0</td>\n",
       "      <td>0.044</td>\n",
       "      <td>0.000</td>\n",
       "      <td>0.00</td>\n",
       "      <td>1.666</td>\n",
       "      <td>10</td>\n",
       "      <td>180</td>\n",
       "      <td>ham</td>\n",
       "    </tr>\n",
       "    <tr>\n",
       "      <th>1</th>\n",
       "      <td>0.46</td>\n",
       "      <td>0.00</td>\n",
       "      <td>0.00</td>\n",
       "      <td>0.0</td>\n",
       "      <td>0.00</td>\n",
       "      <td>0.00</td>\n",
       "      <td>0.00</td>\n",
       "      <td>0.00</td>\n",
       "      <td>0.00</td>\n",
       "      <td>0.00</td>\n",
       "      <td>...</td>\n",
       "      <td>0.000</td>\n",
       "      <td>0.125</td>\n",
       "      <td>0.0</td>\n",
       "      <td>0.000</td>\n",
       "      <td>0.000</td>\n",
       "      <td>0.00</td>\n",
       "      <td>1.510</td>\n",
       "      <td>10</td>\n",
       "      <td>74</td>\n",
       "      <td>ham</td>\n",
       "    </tr>\n",
       "    <tr>\n",
       "      <th>2</th>\n",
       "      <td>0.00</td>\n",
       "      <td>0.00</td>\n",
       "      <td>0.00</td>\n",
       "      <td>0.0</td>\n",
       "      <td>0.00</td>\n",
       "      <td>0.00</td>\n",
       "      <td>0.00</td>\n",
       "      <td>0.00</td>\n",
       "      <td>0.00</td>\n",
       "      <td>0.00</td>\n",
       "      <td>...</td>\n",
       "      <td>0.000</td>\n",
       "      <td>0.000</td>\n",
       "      <td>0.0</td>\n",
       "      <td>0.000</td>\n",
       "      <td>0.000</td>\n",
       "      <td>0.00</td>\n",
       "      <td>1.718</td>\n",
       "      <td>11</td>\n",
       "      <td>55</td>\n",
       "      <td>ham</td>\n",
       "    </tr>\n",
       "    <tr>\n",
       "      <th>3</th>\n",
       "      <td>0.33</td>\n",
       "      <td>0.44</td>\n",
       "      <td>0.37</td>\n",
       "      <td>0.0</td>\n",
       "      <td>0.14</td>\n",
       "      <td>0.11</td>\n",
       "      <td>0.00</td>\n",
       "      <td>0.07</td>\n",
       "      <td>0.97</td>\n",
       "      <td>1.16</td>\n",
       "      <td>...</td>\n",
       "      <td>0.006</td>\n",
       "      <td>0.159</td>\n",
       "      <td>0.0</td>\n",
       "      <td>0.069</td>\n",
       "      <td>0.221</td>\n",
       "      <td>0.11</td>\n",
       "      <td>3.426</td>\n",
       "      <td>72</td>\n",
       "      <td>819</td>\n",
       "      <td>spam</td>\n",
       "    </tr>\n",
       "    <tr>\n",
       "      <th>4</th>\n",
       "      <td>0.00</td>\n",
       "      <td>2.08</td>\n",
       "      <td>0.00</td>\n",
       "      <td>0.0</td>\n",
       "      <td>3.12</td>\n",
       "      <td>0.00</td>\n",
       "      <td>1.04</td>\n",
       "      <td>0.00</td>\n",
       "      <td>0.00</td>\n",
       "      <td>0.00</td>\n",
       "      <td>...</td>\n",
       "      <td>0.000</td>\n",
       "      <td>0.000</td>\n",
       "      <td>0.0</td>\n",
       "      <td>0.263</td>\n",
       "      <td>0.000</td>\n",
       "      <td>0.00</td>\n",
       "      <td>1.428</td>\n",
       "      <td>4</td>\n",
       "      <td>20</td>\n",
       "      <td>spam</td>\n",
       "    </tr>\n",
       "  </tbody>\n",
       "</table>\n",
       "<p>5 rows × 58 columns</p>\n",
       "</div>"
      ],
      "text/plain": [
       "   make  address   all   3d   our  over  remove  internet  order  mail  ...  \\\n",
       "0  0.00     0.00  0.29  0.0  0.00  0.00    0.00      0.00   0.00  0.00  ...   \n",
       "1  0.46     0.00  0.00  0.0  0.00  0.00    0.00      0.00   0.00  0.00  ...   \n",
       "2  0.00     0.00  0.00  0.0  0.00  0.00    0.00      0.00   0.00  0.00  ...   \n",
       "3  0.33     0.44  0.37  0.0  0.14  0.11    0.00      0.07   0.97  1.16  ...   \n",
       "4  0.00     2.08  0.00  0.0  3.12  0.00    1.04      0.00   0.00  0.00  ...   \n",
       "\n",
       "   semicol  paren  bracket   bang  dollar  pound  cap_avg  cap_long  \\\n",
       "0    0.000  0.178      0.0  0.044   0.000   0.00    1.666        10   \n",
       "1    0.000  0.125      0.0  0.000   0.000   0.00    1.510        10   \n",
       "2    0.000  0.000      0.0  0.000   0.000   0.00    1.718        11   \n",
       "3    0.006  0.159      0.0  0.069   0.221   0.11    3.426        72   \n",
       "4    0.000  0.000      0.0  0.263   0.000   0.00    1.428         4   \n",
       "\n",
       "   cap_total  Class  \n",
       "0        180    ham  \n",
       "1         74    ham  \n",
       "2         55    ham  \n",
       "3        819   spam  \n",
       "4         20   spam  \n",
       "\n",
       "[5 rows x 58 columns]"
      ]
     },
     "execution_count": 37,
     "metadata": {},
     "output_type": "execute_result"
    }
   ],
   "source": [
    "msg_dataframe = pd.read_csv(r\"C:\\Users\\pjbah\\Downloads\\spam.csv\")\n",
    "msg_dataframe.head()"
   ]
  },
  {
   "cell_type": "code",
   "execution_count": 3,
   "id": "1074aa98",
   "metadata": {},
   "outputs": [
    {
     "data": {
      "text/plain": [
       "False"
      ]
     },
     "execution_count": 3,
     "metadata": {},
     "output_type": "execute_result"
    }
   ],
   "source": [
    "# To check whether there are any null values\n",
    "msg_dataframe.isna().any().all()"
   ]
  },
  {
   "cell_type": "code",
   "execution_count": 4,
   "id": "4b3018cf",
   "metadata": {},
   "outputs": [
    {
     "data": {
      "text/html": [
       "<div>\n",
       "<style scoped>\n",
       "    .dataframe tbody tr th:only-of-type {\n",
       "        vertical-align: middle;\n",
       "    }\n",
       "\n",
       "    .dataframe tbody tr th {\n",
       "        vertical-align: top;\n",
       "    }\n",
       "\n",
       "    .dataframe thead th {\n",
       "        text-align: right;\n",
       "    }\n",
       "</style>\n",
       "<table border=\"1\" class=\"dataframe\">\n",
       "  <thead>\n",
       "    <tr style=\"text-align: right;\">\n",
       "      <th></th>\n",
       "      <th>make</th>\n",
       "      <th>address</th>\n",
       "      <th>all</th>\n",
       "      <th>3d</th>\n",
       "      <th>our</th>\n",
       "      <th>over</th>\n",
       "      <th>remove</th>\n",
       "      <th>internet</th>\n",
       "      <th>order</th>\n",
       "      <th>mail</th>\n",
       "      <th>...</th>\n",
       "      <th>conference</th>\n",
       "      <th>semicol</th>\n",
       "      <th>paren</th>\n",
       "      <th>bracket</th>\n",
       "      <th>bang</th>\n",
       "      <th>dollar</th>\n",
       "      <th>pound</th>\n",
       "      <th>cap_avg</th>\n",
       "      <th>cap_long</th>\n",
       "      <th>cap_total</th>\n",
       "    </tr>\n",
       "  </thead>\n",
       "  <tbody>\n",
       "    <tr>\n",
       "      <th>count</th>\n",
       "      <td>4601.000000</td>\n",
       "      <td>4601.000000</td>\n",
       "      <td>4601.000000</td>\n",
       "      <td>4601.000000</td>\n",
       "      <td>4601.000000</td>\n",
       "      <td>4601.000000</td>\n",
       "      <td>4601.000000</td>\n",
       "      <td>4601.000000</td>\n",
       "      <td>4601.000000</td>\n",
       "      <td>4601.000000</td>\n",
       "      <td>...</td>\n",
       "      <td>4601.000000</td>\n",
       "      <td>4601.000000</td>\n",
       "      <td>4601.000000</td>\n",
       "      <td>4601.000000</td>\n",
       "      <td>4601.000000</td>\n",
       "      <td>4601.000000</td>\n",
       "      <td>4601.000000</td>\n",
       "      <td>4601.000000</td>\n",
       "      <td>4601.000000</td>\n",
       "      <td>4601.000000</td>\n",
       "    </tr>\n",
       "    <tr>\n",
       "      <th>mean</th>\n",
       "      <td>0.104553</td>\n",
       "      <td>0.213015</td>\n",
       "      <td>0.280656</td>\n",
       "      <td>0.065425</td>\n",
       "      <td>0.312223</td>\n",
       "      <td>0.095901</td>\n",
       "      <td>0.114208</td>\n",
       "      <td>0.105295</td>\n",
       "      <td>0.090067</td>\n",
       "      <td>0.239413</td>\n",
       "      <td>...</td>\n",
       "      <td>0.031869</td>\n",
       "      <td>0.038575</td>\n",
       "      <td>0.139030</td>\n",
       "      <td>0.016976</td>\n",
       "      <td>0.269071</td>\n",
       "      <td>0.075811</td>\n",
       "      <td>0.044238</td>\n",
       "      <td>5.191515</td>\n",
       "      <td>52.172789</td>\n",
       "      <td>283.289285</td>\n",
       "    </tr>\n",
       "    <tr>\n",
       "      <th>std</th>\n",
       "      <td>0.305358</td>\n",
       "      <td>1.290575</td>\n",
       "      <td>0.504143</td>\n",
       "      <td>1.395151</td>\n",
       "      <td>0.672513</td>\n",
       "      <td>0.273824</td>\n",
       "      <td>0.391441</td>\n",
       "      <td>0.401071</td>\n",
       "      <td>0.278616</td>\n",
       "      <td>0.644755</td>\n",
       "      <td>...</td>\n",
       "      <td>0.285735</td>\n",
       "      <td>0.243471</td>\n",
       "      <td>0.270355</td>\n",
       "      <td>0.109394</td>\n",
       "      <td>0.815672</td>\n",
       "      <td>0.245882</td>\n",
       "      <td>0.429342</td>\n",
       "      <td>31.729449</td>\n",
       "      <td>194.891310</td>\n",
       "      <td>606.347851</td>\n",
       "    </tr>\n",
       "    <tr>\n",
       "      <th>min</th>\n",
       "      <td>0.000000</td>\n",
       "      <td>0.000000</td>\n",
       "      <td>0.000000</td>\n",
       "      <td>0.000000</td>\n",
       "      <td>0.000000</td>\n",
       "      <td>0.000000</td>\n",
       "      <td>0.000000</td>\n",
       "      <td>0.000000</td>\n",
       "      <td>0.000000</td>\n",
       "      <td>0.000000</td>\n",
       "      <td>...</td>\n",
       "      <td>0.000000</td>\n",
       "      <td>0.000000</td>\n",
       "      <td>0.000000</td>\n",
       "      <td>0.000000</td>\n",
       "      <td>0.000000</td>\n",
       "      <td>0.000000</td>\n",
       "      <td>0.000000</td>\n",
       "      <td>1.000000</td>\n",
       "      <td>1.000000</td>\n",
       "      <td>1.000000</td>\n",
       "    </tr>\n",
       "    <tr>\n",
       "      <th>25%</th>\n",
       "      <td>0.000000</td>\n",
       "      <td>0.000000</td>\n",
       "      <td>0.000000</td>\n",
       "      <td>0.000000</td>\n",
       "      <td>0.000000</td>\n",
       "      <td>0.000000</td>\n",
       "      <td>0.000000</td>\n",
       "      <td>0.000000</td>\n",
       "      <td>0.000000</td>\n",
       "      <td>0.000000</td>\n",
       "      <td>...</td>\n",
       "      <td>0.000000</td>\n",
       "      <td>0.000000</td>\n",
       "      <td>0.000000</td>\n",
       "      <td>0.000000</td>\n",
       "      <td>0.000000</td>\n",
       "      <td>0.000000</td>\n",
       "      <td>0.000000</td>\n",
       "      <td>1.588000</td>\n",
       "      <td>6.000000</td>\n",
       "      <td>35.000000</td>\n",
       "    </tr>\n",
       "    <tr>\n",
       "      <th>50%</th>\n",
       "      <td>0.000000</td>\n",
       "      <td>0.000000</td>\n",
       "      <td>0.000000</td>\n",
       "      <td>0.000000</td>\n",
       "      <td>0.000000</td>\n",
       "      <td>0.000000</td>\n",
       "      <td>0.000000</td>\n",
       "      <td>0.000000</td>\n",
       "      <td>0.000000</td>\n",
       "      <td>0.000000</td>\n",
       "      <td>...</td>\n",
       "      <td>0.000000</td>\n",
       "      <td>0.000000</td>\n",
       "      <td>0.065000</td>\n",
       "      <td>0.000000</td>\n",
       "      <td>0.000000</td>\n",
       "      <td>0.000000</td>\n",
       "      <td>0.000000</td>\n",
       "      <td>2.276000</td>\n",
       "      <td>15.000000</td>\n",
       "      <td>95.000000</td>\n",
       "    </tr>\n",
       "    <tr>\n",
       "      <th>75%</th>\n",
       "      <td>0.000000</td>\n",
       "      <td>0.000000</td>\n",
       "      <td>0.420000</td>\n",
       "      <td>0.000000</td>\n",
       "      <td>0.380000</td>\n",
       "      <td>0.000000</td>\n",
       "      <td>0.000000</td>\n",
       "      <td>0.000000</td>\n",
       "      <td>0.000000</td>\n",
       "      <td>0.160000</td>\n",
       "      <td>...</td>\n",
       "      <td>0.000000</td>\n",
       "      <td>0.000000</td>\n",
       "      <td>0.188000</td>\n",
       "      <td>0.000000</td>\n",
       "      <td>0.315000</td>\n",
       "      <td>0.052000</td>\n",
       "      <td>0.000000</td>\n",
       "      <td>3.706000</td>\n",
       "      <td>43.000000</td>\n",
       "      <td>266.000000</td>\n",
       "    </tr>\n",
       "    <tr>\n",
       "      <th>max</th>\n",
       "      <td>4.540000</td>\n",
       "      <td>14.280000</td>\n",
       "      <td>5.100000</td>\n",
       "      <td>42.810000</td>\n",
       "      <td>10.000000</td>\n",
       "      <td>5.880000</td>\n",
       "      <td>7.270000</td>\n",
       "      <td>11.110000</td>\n",
       "      <td>5.260000</td>\n",
       "      <td>18.180000</td>\n",
       "      <td>...</td>\n",
       "      <td>10.000000</td>\n",
       "      <td>4.385000</td>\n",
       "      <td>9.752000</td>\n",
       "      <td>4.081000</td>\n",
       "      <td>32.478000</td>\n",
       "      <td>6.003000</td>\n",
       "      <td>19.829000</td>\n",
       "      <td>1102.500000</td>\n",
       "      <td>9989.000000</td>\n",
       "      <td>15841.000000</td>\n",
       "    </tr>\n",
       "  </tbody>\n",
       "</table>\n",
       "<p>8 rows × 57 columns</p>\n",
       "</div>"
      ],
      "text/plain": [
       "              make      address          all           3d          our  \\\n",
       "count  4601.000000  4601.000000  4601.000000  4601.000000  4601.000000   \n",
       "mean      0.104553     0.213015     0.280656     0.065425     0.312223   \n",
       "std       0.305358     1.290575     0.504143     1.395151     0.672513   \n",
       "min       0.000000     0.000000     0.000000     0.000000     0.000000   \n",
       "25%       0.000000     0.000000     0.000000     0.000000     0.000000   \n",
       "50%       0.000000     0.000000     0.000000     0.000000     0.000000   \n",
       "75%       0.000000     0.000000     0.420000     0.000000     0.380000   \n",
       "max       4.540000    14.280000     5.100000    42.810000    10.000000   \n",
       "\n",
       "              over       remove     internet        order         mail  ...  \\\n",
       "count  4601.000000  4601.000000  4601.000000  4601.000000  4601.000000  ...   \n",
       "mean      0.095901     0.114208     0.105295     0.090067     0.239413  ...   \n",
       "std       0.273824     0.391441     0.401071     0.278616     0.644755  ...   \n",
       "min       0.000000     0.000000     0.000000     0.000000     0.000000  ...   \n",
       "25%       0.000000     0.000000     0.000000     0.000000     0.000000  ...   \n",
       "50%       0.000000     0.000000     0.000000     0.000000     0.000000  ...   \n",
       "75%       0.000000     0.000000     0.000000     0.000000     0.160000  ...   \n",
       "max       5.880000     7.270000    11.110000     5.260000    18.180000  ...   \n",
       "\n",
       "        conference      semicol        paren      bracket         bang  \\\n",
       "count  4601.000000  4601.000000  4601.000000  4601.000000  4601.000000   \n",
       "mean      0.031869     0.038575     0.139030     0.016976     0.269071   \n",
       "std       0.285735     0.243471     0.270355     0.109394     0.815672   \n",
       "min       0.000000     0.000000     0.000000     0.000000     0.000000   \n",
       "25%       0.000000     0.000000     0.000000     0.000000     0.000000   \n",
       "50%       0.000000     0.000000     0.065000     0.000000     0.000000   \n",
       "75%       0.000000     0.000000     0.188000     0.000000     0.315000   \n",
       "max      10.000000     4.385000     9.752000     4.081000    32.478000   \n",
       "\n",
       "            dollar        pound      cap_avg     cap_long     cap_total  \n",
       "count  4601.000000  4601.000000  4601.000000  4601.000000   4601.000000  \n",
       "mean      0.075811     0.044238     5.191515    52.172789    283.289285  \n",
       "std       0.245882     0.429342    31.729449   194.891310    606.347851  \n",
       "min       0.000000     0.000000     1.000000     1.000000      1.000000  \n",
       "25%       0.000000     0.000000     1.588000     6.000000     35.000000  \n",
       "50%       0.000000     0.000000     2.276000    15.000000     95.000000  \n",
       "75%       0.052000     0.000000     3.706000    43.000000    266.000000  \n",
       "max       6.003000    19.829000  1102.500000  9989.000000  15841.000000  \n",
       "\n",
       "[8 rows x 57 columns]"
      ]
     },
     "execution_count": 4,
     "metadata": {},
     "output_type": "execute_result"
    }
   ],
   "source": [
    "msg_dataframe.describe()"
   ]
  },
  {
   "cell_type": "code",
   "execution_count": 5,
   "id": "8b292637",
   "metadata": {},
   "outputs": [
    {
     "data": {
      "text/plain": [
       "ham     2788\n",
       "spam    1813\n",
       "Name: Class, dtype: int64"
      ]
     },
     "execution_count": 5,
     "metadata": {},
     "output_type": "execute_result"
    }
   ],
   "source": [
    "# Gives the total count of each class variable\n",
    "spam_ham = msg_dataframe['Class'].value_counts()\n",
    "spam_ham"
   ]
  },
  {
   "cell_type": "code",
   "execution_count": 38,
   "id": "04e81ac5",
   "metadata": {},
   "outputs": [],
   "source": [
    "# label encoding the class variables\n",
    "label_encoder = LabelEncoder()\n",
    "msg_dataframe['Class']= label_encoder.fit_transform(msg_dataframe['Class'])\n",
    "# ham 0 spam 1"
   ]
  },
  {
   "cell_type": "code",
   "execution_count": 39,
   "id": "ca7118e4",
   "metadata": {},
   "outputs": [],
   "source": [
    "# Assigning a variable to target variable and feature set\n",
    "y=msg_dataframe[\"Class\"]\n",
    "msg_dataframe.drop(['Class'],axis=1,inplace=True)\n",
    "x=msg_dataframe"
   ]
  },
  {
   "cell_type": "code",
   "execution_count": 8,
   "id": "c66b060c",
   "metadata": {},
   "outputs": [],
   "source": [
    "# Splitting the train and test data\n",
    "X_train,X_test,y_train,y_test= train_test_split(x,y, test_size=0.78)"
   ]
  },
  {
   "cell_type": "code",
   "execution_count": 9,
   "id": "2f8dbecb",
   "metadata": {},
   "outputs": [
    {
     "name": "stdout",
     "output_type": "stream",
     "text": [
      "Training feature shape:  (1012, 57)\n",
      "Testing feature shape:  (3589, 57)\n"
     ]
    }
   ],
   "source": [
    "# Shows the shape of the train and test feature set\n",
    "print(\"Training feature shape: \", X_train.shape)\n",
    "print(\"Testing feature shape: \", X_test.shape)"
   ]
  },
  {
   "cell_type": "code",
   "execution_count": 10,
   "id": "12e42739",
   "metadata": {},
   "outputs": [
    {
     "data": {
      "text/html": [
       "<div>\n",
       "<style scoped>\n",
       "    .dataframe tbody tr th:only-of-type {\n",
       "        vertical-align: middle;\n",
       "    }\n",
       "\n",
       "    .dataframe tbody tr th {\n",
       "        vertical-align: top;\n",
       "    }\n",
       "\n",
       "    .dataframe thead th {\n",
       "        text-align: right;\n",
       "    }\n",
       "</style>\n",
       "<table border=\"1\" class=\"dataframe\">\n",
       "  <thead>\n",
       "    <tr style=\"text-align: right;\">\n",
       "      <th></th>\n",
       "      <th>make</th>\n",
       "      <th>address</th>\n",
       "      <th>all</th>\n",
       "      <th>3d</th>\n",
       "      <th>our</th>\n",
       "      <th>over</th>\n",
       "      <th>remove</th>\n",
       "      <th>internet</th>\n",
       "      <th>order</th>\n",
       "      <th>mail</th>\n",
       "      <th>...</th>\n",
       "      <th>conference</th>\n",
       "      <th>semicol</th>\n",
       "      <th>paren</th>\n",
       "      <th>bracket</th>\n",
       "      <th>bang</th>\n",
       "      <th>dollar</th>\n",
       "      <th>pound</th>\n",
       "      <th>cap_avg</th>\n",
       "      <th>cap_long</th>\n",
       "      <th>cap_total</th>\n",
       "    </tr>\n",
       "  </thead>\n",
       "  <tbody>\n",
       "    <tr>\n",
       "      <th>440</th>\n",
       "      <td>0.0</td>\n",
       "      <td>0.0</td>\n",
       "      <td>0.00</td>\n",
       "      <td>0.0</td>\n",
       "      <td>0.00</td>\n",
       "      <td>0.80</td>\n",
       "      <td>0.00</td>\n",
       "      <td>0.00</td>\n",
       "      <td>0.80</td>\n",
       "      <td>0.00</td>\n",
       "      <td>...</td>\n",
       "      <td>0.00</td>\n",
       "      <td>0.0</td>\n",
       "      <td>0.294</td>\n",
       "      <td>0.0</td>\n",
       "      <td>0.000</td>\n",
       "      <td>0.000</td>\n",
       "      <td>0.00</td>\n",
       "      <td>1.166</td>\n",
       "      <td>2</td>\n",
       "      <td>14</td>\n",
       "    </tr>\n",
       "    <tr>\n",
       "      <th>3507</th>\n",
       "      <td>0.4</td>\n",
       "      <td>0.4</td>\n",
       "      <td>0.26</td>\n",
       "      <td>0.0</td>\n",
       "      <td>0.13</td>\n",
       "      <td>0.20</td>\n",
       "      <td>0.06</td>\n",
       "      <td>0.33</td>\n",
       "      <td>0.00</td>\n",
       "      <td>1.14</td>\n",
       "      <td>...</td>\n",
       "      <td>0.00</td>\n",
       "      <td>0.0</td>\n",
       "      <td>0.088</td>\n",
       "      <td>0.0</td>\n",
       "      <td>1.060</td>\n",
       "      <td>0.151</td>\n",
       "      <td>0.05</td>\n",
       "      <td>4.623</td>\n",
       "      <td>123</td>\n",
       "      <td>1045</td>\n",
       "    </tr>\n",
       "    <tr>\n",
       "      <th>4423</th>\n",
       "      <td>0.0</td>\n",
       "      <td>0.0</td>\n",
       "      <td>0.00</td>\n",
       "      <td>0.0</td>\n",
       "      <td>0.00</td>\n",
       "      <td>0.23</td>\n",
       "      <td>0.00</td>\n",
       "      <td>0.00</td>\n",
       "      <td>0.00</td>\n",
       "      <td>0.23</td>\n",
       "      <td>...</td>\n",
       "      <td>0.71</td>\n",
       "      <td>0.0</td>\n",
       "      <td>0.000</td>\n",
       "      <td>0.0</td>\n",
       "      <td>0.000</td>\n",
       "      <td>0.069</td>\n",
       "      <td>0.00</td>\n",
       "      <td>2.216</td>\n",
       "      <td>44</td>\n",
       "      <td>215</td>\n",
       "    </tr>\n",
       "    <tr>\n",
       "      <th>958</th>\n",
       "      <td>0.0</td>\n",
       "      <td>0.0</td>\n",
       "      <td>0.00</td>\n",
       "      <td>0.0</td>\n",
       "      <td>0.00</td>\n",
       "      <td>0.00</td>\n",
       "      <td>0.00</td>\n",
       "      <td>0.00</td>\n",
       "      <td>0.00</td>\n",
       "      <td>0.00</td>\n",
       "      <td>...</td>\n",
       "      <td>0.00</td>\n",
       "      <td>0.0</td>\n",
       "      <td>0.000</td>\n",
       "      <td>0.0</td>\n",
       "      <td>0.000</td>\n",
       "      <td>0.000</td>\n",
       "      <td>0.00</td>\n",
       "      <td>1.866</td>\n",
       "      <td>6</td>\n",
       "      <td>28</td>\n",
       "    </tr>\n",
       "    <tr>\n",
       "      <th>2817</th>\n",
       "      <td>0.0</td>\n",
       "      <td>0.0</td>\n",
       "      <td>0.71</td>\n",
       "      <td>0.0</td>\n",
       "      <td>0.23</td>\n",
       "      <td>0.00</td>\n",
       "      <td>0.00</td>\n",
       "      <td>0.00</td>\n",
       "      <td>0.23</td>\n",
       "      <td>0.23</td>\n",
       "      <td>...</td>\n",
       "      <td>0.00</td>\n",
       "      <td>0.0</td>\n",
       "      <td>0.109</td>\n",
       "      <td>0.0</td>\n",
       "      <td>1.018</td>\n",
       "      <td>0.036</td>\n",
       "      <td>0.00</td>\n",
       "      <td>4.022</td>\n",
       "      <td>97</td>\n",
       "      <td>543</td>\n",
       "    </tr>\n",
       "  </tbody>\n",
       "</table>\n",
       "<p>5 rows × 57 columns</p>\n",
       "</div>"
      ],
      "text/plain": [
       "      make  address   all   3d   our  over  remove  internet  order  mail  \\\n",
       "440    0.0      0.0  0.00  0.0  0.00  0.80    0.00      0.00   0.80  0.00   \n",
       "3507   0.4      0.4  0.26  0.0  0.13  0.20    0.06      0.33   0.00  1.14   \n",
       "4423   0.0      0.0  0.00  0.0  0.00  0.23    0.00      0.00   0.00  0.23   \n",
       "958    0.0      0.0  0.00  0.0  0.00  0.00    0.00      0.00   0.00  0.00   \n",
       "2817   0.0      0.0  0.71  0.0  0.23  0.00    0.00      0.00   0.23  0.23   \n",
       "\n",
       "      ...  conference  semicol  paren  bracket   bang  dollar  pound  cap_avg  \\\n",
       "440   ...        0.00      0.0  0.294      0.0  0.000   0.000   0.00    1.166   \n",
       "3507  ...        0.00      0.0  0.088      0.0  1.060   0.151   0.05    4.623   \n",
       "4423  ...        0.71      0.0  0.000      0.0  0.000   0.069   0.00    2.216   \n",
       "958   ...        0.00      0.0  0.000      0.0  0.000   0.000   0.00    1.866   \n",
       "2817  ...        0.00      0.0  0.109      0.0  1.018   0.036   0.00    4.022   \n",
       "\n",
       "      cap_long  cap_total  \n",
       "440          2         14  \n",
       "3507       123       1045  \n",
       "4423        44        215  \n",
       "958          6         28  \n",
       "2817        97        543  \n",
       "\n",
       "[5 rows x 57 columns]"
      ]
     },
     "execution_count": 10,
     "metadata": {},
     "output_type": "execute_result"
    }
   ],
   "source": [
    "# Showcasing the first 5 rows of training data\n",
    "X_train.head()"
   ]
  },
  {
   "cell_type": "code",
   "execution_count": 10,
   "id": "7c4bc0c3",
   "metadata": {},
   "outputs": [],
   "source": [
    "clf_dt = DecisionTreeClassifier(criterion = \"entropy\")\n",
    "clf_lr = LogisticRegression()\n",
    "clf_gnb = GaussianNB()\n",
    "eclf = VotingClassifier(estimators = [('DT', clf_dt),('LR',clf_lr),('GNB',clf_gnb)], voting ='hard')"
   ]
  },
  {
   "cell_type": "code",
   "execution_count": 14,
   "id": "0a52888d",
   "metadata": {},
   "outputs": [
    {
     "name": "stdout",
     "output_type": "stream",
     "text": [
      "---------FUSED MODEL CLASSIFIER-------------\n",
      "CONFUSION MATRIX:\n",
      " [[2007  153]\n",
      " [ 131 1298]]\n",
      "TOTAL ACCURACY SCORE:92%\n",
      "Accuracy of Ham class is 93%\n",
      "Accuracy of Spam class is 91%\n"
     ]
    }
   ],
   "source": [
    "eclf.fit(X_train, y_train)\n",
    "msg_test_target_predict = eclf.predict(X_test)\n",
    "# Metrics performed on the test data\n",
    "print(\"---------FUSED MODEL CLASSIFIER-------------\")\n",
    "print(\"CONFUSION MATRIX:\\n\", confusion_matrix(y_test, msg_test_target_predict))\n",
    "print(\"TOTAL ACCURACY SCORE:{}%\".format(round((accuracy_score(y_test, msg_test_target_predict))*100),2))\n",
    "print(\"Accuracy of Ham class is {}%\".format(round((recall_score(y_test, msg_test_target_predict,average='binary',pos_label=0))*100),2))\n",
    "print(\"Accuracy of Spam class is {}%\".format(round((recall_score(y_test, msg_test_target_predict,average='binary',pos_label=1))*100),2))"
   ]
  },
  {
   "cell_type": "code",
   "execution_count": 12,
   "id": "6b8e4946",
   "metadata": {},
   "outputs": [],
   "source": [
    "DT = DecisionTreeClassifier(criterion = \"entropy\")\n",
    "ABclf = AdaBoostClassifier(n_estimators = 200,base_estimator = DT)"
   ]
  },
  {
   "cell_type": "code",
   "execution_count": 17,
   "id": "039c8a14",
   "metadata": {},
   "outputs": [
    {
     "name": "stdout",
     "output_type": "stream",
     "text": [
      "---------ADABOOST ENSEMBLE WITH DECISION TREE as a base learner-------------\n",
      "CONFUSION MATRIX:\n",
      " [[1951  209]\n",
      " [ 190 1239]]\n",
      "TOTAL ACCURACY SCORE:89%\n",
      "Accuracy of Ham class is 90%\n",
      "Accuracy of Spam class is 87%\n"
     ]
    }
   ],
   "source": [
    "ABclf.fit(X_train, y_train)\n",
    "msg_test_target_predict = ABclf.predict(X_test)\n",
    "# Metrics performed on the test data\n",
    "print(\"---------ADABOOST ENSEMBLE WITH DECISION TREE as a base learner-------------\")\n",
    "print(\"CONFUSION MATRIX:\\n\", confusion_matrix(y_test, msg_test_target_predict))\n",
    "print(\"TOTAL ACCURACY SCORE:{}%\".format(round((accuracy_score(y_test, msg_test_target_predict))*100),2))\n",
    "print(\"Accuracy of Ham class is {}%\".format(round((recall_score(y_test, msg_test_target_predict,average='binary',pos_label=0))*100),2))\n",
    "print(\"Accuracy of Spam class is {}%\".format(round((recall_score(y_test, msg_test_target_predict,average='binary',pos_label=1))*100),2))"
   ]
  },
  {
   "cell_type": "code",
   "execution_count": 18,
   "id": "d4279aa9",
   "metadata": {},
   "outputs": [],
   "source": [
    "RFclf = RandomForestClassifier(n_estimators=1000)"
   ]
  },
  {
   "cell_type": "code",
   "execution_count": 19,
   "id": "ced47a55",
   "metadata": {},
   "outputs": [
    {
     "name": "stdout",
     "output_type": "stream",
     "text": [
      "---------RANDOM FOREST CLASSIFIER-------------\n",
      "CONFUSION MATRIX:\n",
      " [[2079   81]\n",
      " [ 158 1271]]\n",
      "TOTAL ACCURACY SCORE:93%\n",
      "Accuracy of Ham class is 96%\n",
      "Accuracy of Spam class is 89%\n"
     ]
    }
   ],
   "source": [
    "RFclf.fit(X_train, y_train)\n",
    "msg_test_target_predict = RFclf.predict(X_test)\n",
    "# Metrics performed on the test data\n",
    "print(\"---------RANDOM FOREST CLASSIFIER-------------\")\n",
    "print(\"CONFUSION MATRIX:\\n\", confusion_matrix(y_test, msg_test_target_predict))\n",
    "print(\"TOTAL ACCURACY SCORE:{}%\".format(round((accuracy_score(y_test, msg_test_target_predict))*100),2))\n",
    "print(\"Accuracy of Ham class is {}%\".format(round((recall_score(y_test, msg_test_target_predict,average='binary',pos_label=0))*100),2))\n",
    "print(\"Accuracy of Spam class is {}%\".format(round((recall_score(y_test, msg_test_target_predict,average='binary',pos_label=1))*100),2))"
   ]
  },
  {
   "cell_type": "markdown",
   "id": "24474fc4",
   "metadata": {},
   "source": [
    "<h3>Training - Testing split: 50% - 50%</h3>"
   ]
  },
  {
   "cell_type": "code",
   "execution_count": 8,
   "id": "1f6c1983",
   "metadata": {},
   "outputs": [],
   "source": [
    "# Splitting the train and test data using the Stratified kfold cross validation\n",
    "X1_train,X1_test,y1_train,y1_test= train_test_split(x,y, test_size=0.50, stratify=y)"
   ]
  },
  {
   "cell_type": "code",
   "execution_count": 9,
   "id": "971a15fd",
   "metadata": {},
   "outputs": [
    {
     "name": "stdout",
     "output_type": "stream",
     "text": [
      "Training feature shape:  (2300, 57)\n",
      "Testing feature shape:  (2301, 57)\n"
     ]
    }
   ],
   "source": [
    "# Shows the shape of the train and test feature set\n",
    "print(\"Training feature shape: \", X1_train.shape)\n",
    "print(\"Testing feature shape: \", X1_test.shape)"
   ]
  },
  {
   "cell_type": "code",
   "execution_count": null,
   "id": "627a8de3",
   "metadata": {},
   "outputs": [],
   "source": [
    "# Using the Majority voting technique via the VotingClassifier model\n",
    "clf_dt = DecisionTreeClassifier(criterion = \"entropy\")\n",
    "clf_lr = LogisticRegression()\n",
    "clf_gnb = GaussianNB()\n",
    "eclf = VotingClassifier(estimators = [('DT', clf_dt),('LR',clf_lr),('GNB',clf_gnb)], voting ='hard')"
   ]
  },
  {
   "cell_type": "code",
   "execution_count": 11,
   "id": "01883482",
   "metadata": {},
   "outputs": [
    {
     "name": "stdout",
     "output_type": "stream",
     "text": [
      "---------FUSED MODEL CLASSIFIER WITH 50%-50% SPLIT-------------\n",
      "CONFUSION MATRIX:\n",
      " [[1290  104]\n",
      " [  62  845]]\n",
      "TOTAL ACCURACY SCORE:93%\n",
      "Accuracy of Ham class is 93%\n",
      "Accuracy of Spam class is 93%\n"
     ]
    }
   ],
   "source": [
    "eclf.fit(X1_train, y1_train)\n",
    "msg_test_target_predict = eclf.predict(X1_test)\n",
    "# Metrics performed on the test data\n",
    "print(\"---------FUSED MODEL CLASSIFIER WITH 50%-50% SPLIT-------------\")\n",
    "print(\"CONFUSION MATRIX:\\n\", confusion_matrix(y1_test, msg_test_target_predict))\n",
    "print(\"TOTAL ACCURACY SCORE:{}%\".format(round((accuracy_score(y1_test, msg_test_target_predict))*100),2))\n",
    "print(\"Accuracy of Ham class is {}%\".format(round((recall_score(y1_test, msg_test_target_predict,average='binary',pos_label=0))*100),2))\n",
    "print(\"Accuracy of Spam class is {}%\".format(round((recall_score(y1_test, msg_test_target_predict,average='binary',pos_label=1))*100),2))"
   ]
  },
  {
   "cell_type": "code",
   "execution_count": 13,
   "id": "0cbd15f9",
   "metadata": {},
   "outputs": [],
   "source": [
    "DT = DecisionTreeClassifier(criterion = \"entropy\")\n",
    "ABclf = AdaBoostClassifier(n_estimators = 200,base_estimator = DT)"
   ]
  },
  {
   "cell_type": "code",
   "execution_count": 15,
   "id": "a4ec852d",
   "metadata": {},
   "outputs": [
    {
     "name": "stdout",
     "output_type": "stream",
     "text": [
      "---------ADABOOST ENSEMBLE WITH DECISION TREE as a base learner WITH 50%-50% SPLIT-------------\n",
      "CONFUSION MATRIX:\n",
      " [[1340   54]\n",
      " [  70  837]]\n",
      "TOTAL ACCURACY SCORE:95%\n",
      "Accuracy of Ham class is 96%\n",
      "Accuracy of Spam class is 92%\n"
     ]
    }
   ],
   "source": [
    "ABclf.fit(X1_train, y1_train)\n",
    "msg_test_target_predict = ABclf.predict(X1_test)\n",
    "# Metrics performed on the test data\n",
    "print(\"---------ADABOOST ENSEMBLE WITH DECISION TREE as a base learner WITH 50%-50% SPLIT-------------\")\n",
    "print(\"CONFUSION MATRIX:\\n\", confusion_matrix(y1_test, msg_test_target_predict))\n",
    "print(\"TOTAL ACCURACY SCORE:{}%\".format(round((accuracy_score(y1_test, msg_test_target_predict))*100),2))\n",
    "print(\"Accuracy of Ham class is {}%\".format(round((recall_score(y1_test, msg_test_target_predict,average='binary',pos_label=0))*100),2))\n",
    "print(\"Accuracy of Spam class is {}%\".format(round((recall_score(y1_test, msg_test_target_predict,average='binary',pos_label=1))*100),2))"
   ]
  },
  {
   "cell_type": "markdown",
   "id": "6630c33a",
   "metadata": {},
   "source": [
    "<h3>Training - Testing split: 60% - 40%</h3>"
   ]
  },
  {
   "cell_type": "code",
   "execution_count": 20,
   "id": "46ead7e1",
   "metadata": {},
   "outputs": [],
   "source": [
    "# Splitting the train and test data using the Stratified kfold cross validation\n",
    "X2_train,X2_test,y2_train,y2_test= train_test_split(x,y, test_size=0.40, stratify=y)"
   ]
  },
  {
   "cell_type": "code",
   "execution_count": 21,
   "id": "f2f6cf30",
   "metadata": {},
   "outputs": [
    {
     "name": "stdout",
     "output_type": "stream",
     "text": [
      "Training feature shape:  (2760, 57)\n",
      "Testing feature shape:  (1841, 57)\n"
     ]
    }
   ],
   "source": [
    "# Shows the shape of the train and test feature set\n",
    "print(\"Training feature shape: \", X2_train.shape)\n",
    "print(\"Testing feature shape: \", X2_test.shape)"
   ]
  },
  {
   "cell_type": "code",
   "execution_count": 22,
   "id": "dc34278a",
   "metadata": {},
   "outputs": [],
   "source": [
    "# Using the Majority voting technique via the VotingClassifier model\n",
    "clf_dt = DecisionTreeClassifier(criterion = \"entropy\")\n",
    "clf_lr = LogisticRegression()\n",
    "clf_gnb = GaussianNB()\n",
    "eclf = VotingClassifier(estimators = [('DT', clf_dt),('LR',clf_lr),('GNB',clf_gnb)], voting ='hard')"
   ]
  },
  {
   "cell_type": "code",
   "execution_count": 23,
   "id": "43b851d2",
   "metadata": {},
   "outputs": [
    {
     "name": "stdout",
     "output_type": "stream",
     "text": [
      "---------FUSED MODEL CLASSIFIER WITH 60%-40% SPLIT-------------\n",
      "CONFUSION MATRIX:\n",
      " [[1027   89]\n",
      " [  39  686]]\n",
      "TOTAL ACCURACY SCORE:93%\n",
      "Accuracy of Ham class is 92%\n",
      "Accuracy of Spam class is 95%\n"
     ]
    }
   ],
   "source": [
    "eclf.fit(X2_train, y2_train)\n",
    "msg_test_target_predict = eclf.predict(X2_test)\n",
    "# Metrics performed on the test data\n",
    "print(\"---------FUSED MODEL CLASSIFIER WITH 60%-40% SPLIT-------------\")\n",
    "print(\"CONFUSION MATRIX:\\n\", confusion_matrix(y2_test, msg_test_target_predict))\n",
    "print(\"TOTAL ACCURACY SCORE:{}%\".format(round((accuracy_score(y2_test, msg_test_target_predict))*100),2))\n",
    "print(\"Accuracy of Ham class is {}%\".format(round((recall_score(y2_test, msg_test_target_predict,average='binary',pos_label=0))*100),2))\n",
    "print(\"Accuracy of Spam class is {}%\".format(round((recall_score(y2_test, msg_test_target_predict,average='binary',pos_label=1))*100),2))"
   ]
  },
  {
   "cell_type": "code",
   "execution_count": 24,
   "id": "83f82d3e",
   "metadata": {},
   "outputs": [],
   "source": [
    "DT = DecisionTreeClassifier(criterion = \"entropy\")\n",
    "ABclf = AdaBoostClassifier(n_estimators = 200,base_estimator = DT)"
   ]
  },
  {
   "cell_type": "code",
   "execution_count": 25,
   "id": "8ed77651",
   "metadata": {},
   "outputs": [
    {
     "name": "stdout",
     "output_type": "stream",
     "text": [
      "---------ADABOOST ENSEMBLE WITH DECISION TREE as a base learner WITH 60%-40% SPLIT-------------\n",
      "CONFUSION MATRIX:\n",
      " [[1074   42]\n",
      " [  58  667]]\n",
      "TOTAL ACCURACY SCORE:95%\n",
      "Accuracy of Ham class is 96%\n",
      "Accuracy of Spam class is 92%\n"
     ]
    }
   ],
   "source": [
    "ABclf.fit(X2_train, y2_train)\n",
    "msg_test_target_predict = ABclf.predict(X2_test)\n",
    "# Metrics performed on the test data\n",
    "print(\"---------ADABOOST ENSEMBLE WITH DECISION TREE as a base learner WITH 60%-40% SPLIT-------------\")\n",
    "print(\"CONFUSION MATRIX:\\n\", confusion_matrix(y2_test, msg_test_target_predict))\n",
    "print(\"TOTAL ACCURACY SCORE:{}%\".format(round((accuracy_score(y2_test, msg_test_target_predict))*100),2))\n",
    "print(\"Accuracy of Ham class is {}%\".format(round((recall_score(y2_test, msg_test_target_predict,average='binary',pos_label=0))*100),2))\n",
    "print(\"Accuracy of Spam class is {}%\".format(round((recall_score(y2_test, msg_test_target_predict,average='binary',pos_label=1))*100),2))"
   ]
  },
  {
   "cell_type": "markdown",
   "id": "df7faf80",
   "metadata": {},
   "source": [
    "<h3>Training - Testing split: 70% - 30%</h3>"
   ]
  },
  {
   "cell_type": "code",
   "execution_count": 30,
   "id": "d52958df",
   "metadata": {},
   "outputs": [],
   "source": [
    "# Splitting the train and test data using the Stratified kfold cross validation\n",
    "X3_train,X3_test,y3_train,y3_test= train_test_split(x,y, test_size=0.30, stratify=y)"
   ]
  },
  {
   "cell_type": "code",
   "execution_count": 31,
   "id": "8898f5b2",
   "metadata": {},
   "outputs": [
    {
     "name": "stdout",
     "output_type": "stream",
     "text": [
      "Training feature shape:  (3220, 57)\n",
      "Testing feature shape:  (1381, 57)\n"
     ]
    }
   ],
   "source": [
    "# Shows the shape of the train and test feature set\n",
    "print(\"Training feature shape: \", X3_train.shape)\n",
    "print(\"Testing feature shape: \", X3_test.shape)"
   ]
  },
  {
   "cell_type": "code",
   "execution_count": 32,
   "id": "1184f190",
   "metadata": {},
   "outputs": [],
   "source": [
    "# Using the Majority voting technique via the VotingClassifier model\n",
    "clf_dt = DecisionTreeClassifier(criterion = \"entropy\")\n",
    "clf_lr = LogisticRegression()\n",
    "clf_gnb = GaussianNB()\n",
    "eclf = VotingClassifier(estimators = [('DT', clf_dt),('LR',clf_lr),('GNB',clf_gnb)], voting ='hard')"
   ]
  },
  {
   "cell_type": "code",
   "execution_count": 33,
   "id": "f78f2002",
   "metadata": {},
   "outputs": [
    {
     "name": "stdout",
     "output_type": "stream",
     "text": [
      "---------FUSED MODEL CLASSIFIER WITH 70%-30% SPLIT-------------\n",
      "CONFUSION MATRIX:\n",
      " [[778  59]\n",
      " [ 41 503]]\n",
      "TOTAL ACCURACY SCORE:93%\n",
      "Accuracy of Ham class is 93%\n",
      "Accuracy of Spam class is 92%\n"
     ]
    }
   ],
   "source": [
    "eclf.fit(X3_train, y3_train)\n",
    "msg_test_target_predict = eclf.predict(X3_test)\n",
    "# Metrics performed on the test data\n",
    "print(\"---------FUSED MODEL CLASSIFIER WITH 70%-30% SPLIT-------------\")\n",
    "print(\"CONFUSION MATRIX:\\n\", confusion_matrix(y3_test, msg_test_target_predict))\n",
    "print(\"TOTAL ACCURACY SCORE:{}%\".format(round((accuracy_score(y3_test, msg_test_target_predict))*100),2))\n",
    "print(\"Accuracy of Ham class is {}%\".format(round((recall_score(y3_test, msg_test_target_predict,average='binary',pos_label=0))*100),2))\n",
    "print(\"Accuracy of Spam class is {}%\".format(round((recall_score(y3_test, msg_test_target_predict,average='binary',pos_label=1))*100),2))"
   ]
  },
  {
   "cell_type": "code",
   "execution_count": 34,
   "id": "a1afd8d2",
   "metadata": {},
   "outputs": [],
   "source": [
    "DT = DecisionTreeClassifier(criterion = \"entropy\")\n",
    "ABclf = AdaBoostClassifier(n_estimators = 200,base_estimator = DT)"
   ]
  },
  {
   "cell_type": "code",
   "execution_count": 35,
   "id": "b0546298",
   "metadata": {},
   "outputs": [
    {
     "name": "stdout",
     "output_type": "stream",
     "text": [
      "---------ADABOOST ENSEMBLE WITH DECISION TREE as a base learner WITH 70%-30% SPLIT-------------\n",
      "CONFUSION MATRIX:\n",
      " [[799  38]\n",
      " [ 46 498]]\n",
      "TOTAL ACCURACY SCORE:94%\n",
      "Accuracy of Ham class is 95%\n",
      "Accuracy of Spam class is 92%\n"
     ]
    }
   ],
   "source": [
    "ABclf.fit(X3_train, y3_train)\n",
    "msg_test_target_predict = ABclf.predict(X3_test)\n",
    "# Metrics performed on the test data\n",
    "print(\"---------ADABOOST ENSEMBLE WITH DECISION TREE as a base learner WITH 70%-30% SPLIT-------------\")\n",
    "print(\"CONFUSION MATRIX:\\n\", confusion_matrix(y3_test, msg_test_target_predict))\n",
    "print(\"TOTAL ACCURACY SCORE:{}%\".format(round((accuracy_score(y3_test, msg_test_target_predict))*100),2))\n",
    "print(\"Accuracy of Ham class is {}%\".format(round((recall_score(y3_test, msg_test_target_predict,average='binary',pos_label=0))*100),2))\n",
    "print(\"Accuracy of Spam class is {}%\".format(round((recall_score(y3_test, msg_test_target_predict,average='binary',pos_label=1))*100),2))"
   ]
  },
  {
   "cell_type": "markdown",
   "id": "5176fef4",
   "metadata": {},
   "source": [
    "<h3>Training - Testing split: 80% - 20%</h3>"
   ]
  },
  {
   "cell_type": "code",
   "execution_count": 40,
   "id": "2c8bf26a",
   "metadata": {},
   "outputs": [],
   "source": [
    "# Splitting the train and test data using the Stratified kfold cross validation\n",
    "X4_train,X4_test,y4_train,y4_test= train_test_split(x,y, test_size=0.20, stratify=y)"
   ]
  },
  {
   "cell_type": "code",
   "execution_count": 41,
   "id": "521cd531",
   "metadata": {},
   "outputs": [
    {
     "name": "stdout",
     "output_type": "stream",
     "text": [
      "Training feature shape:  (3680, 57)\n",
      "Testing feature shape:  (921, 57)\n"
     ]
    }
   ],
   "source": [
    "# Shows the shape of the train and test feature set\n",
    "print(\"Training feature shape: \", X4_train.shape)\n",
    "print(\"Testing feature shape: \", X4_test.shape)"
   ]
  },
  {
   "cell_type": "code",
   "execution_count": 42,
   "id": "c8475120",
   "metadata": {},
   "outputs": [],
   "source": [
    "# Using the Majority voting technique via the VotingClassifier model in Ensemble Learning\n",
    "clf_dt = DecisionTreeClassifier(criterion = \"entropy\")\n",
    "clf_lr = LogisticRegression()\n",
    "clf_gnb = GaussianNB()\n",
    "eclf = VotingClassifier(estimators = [('DT', clf_dt),('LR',clf_lr),('GNB',clf_gnb)], voting ='hard')"
   ]
  },
  {
   "cell_type": "code",
   "execution_count": 43,
   "id": "f8400fba",
   "metadata": {},
   "outputs": [
    {
     "name": "stdout",
     "output_type": "stream",
     "text": [
      "---------FUSED MODEL CLASSIFIER WITH 80%-20% SPLIT-------------\n",
      "CONFUSION MATRIX:\n",
      " [[525  33]\n",
      " [ 22 341]]\n",
      "TOTAL ACCURACY SCORE:94%\n",
      "Accuracy of Ham class is 94%\n",
      "Accuracy of Spam class is 94%\n"
     ]
    }
   ],
   "source": [
    "eclf.fit(X4_train, y4_train)\n",
    "msg_test_target_predict = eclf.predict(X4_test)\n",
    "# Metrics performed on the test data\n",
    "print(\"---------FUSED MODEL CLASSIFIER WITH 80%-20% SPLIT-------------\")\n",
    "print(\"CONFUSION MATRIX:\\n\", confusion_matrix(y4_test, msg_test_target_predict))\n",
    "print(\"TOTAL ACCURACY SCORE:{}%\".format(round((accuracy_score(y4_test, msg_test_target_predict))*100),2))\n",
    "print(\"Accuracy of Ham class is {}%\".format(round((recall_score(y4_test, msg_test_target_predict,average='binary',pos_label=0))*100),2))\n",
    "print(\"Accuracy of Spam class is {}%\".format(round((recall_score(y4_test, msg_test_target_predict,average='binary',pos_label=1))*100),2))"
   ]
  },
  {
   "cell_type": "code",
   "execution_count": 44,
   "id": "c4045292",
   "metadata": {},
   "outputs": [],
   "source": [
    "DT = DecisionTreeClassifier(criterion = \"entropy\")\n",
    "ABclf = AdaBoostClassifier(n_estimators = 200,base_estimator = DT)"
   ]
  },
  {
   "cell_type": "code",
   "execution_count": 45,
   "id": "e05afcd2",
   "metadata": {},
   "outputs": [
    {
     "name": "stdout",
     "output_type": "stream",
     "text": [
      "---------ADABOOST ENSEMBLE WITH DECISION TREE as a base learner WITH 80%-20% SPLIT-------------\n",
      "CONFUSION MATRIX:\n",
      " [[543  15]\n",
      " [ 26 337]]\n",
      "TOTAL ACCURACY SCORE:96%\n",
      "Accuracy of Ham class is 97%\n",
      "Accuracy of Spam class is 93%\n"
     ]
    }
   ],
   "source": [
    "ABclf.fit(X4_train, y4_train)\n",
    "msg_test_target_predict = ABclf.predict(X4_test)\n",
    "# Metrics performed on the test data\n",
    "print(\"---------ADABOOST ENSEMBLE WITH DECISION TREE as a base learner WITH 80%-20% SPLIT-------------\")\n",
    "print(\"CONFUSION MATRIX:\\n\", confusion_matrix(y4_test, msg_test_target_predict))\n",
    "print(\"TOTAL ACCURACY SCORE:{}%\".format(round((accuracy_score(y4_test, msg_test_target_predict))*100),2))\n",
    "print(\"Accuracy of Ham class is {}%\".format(round((recall_score(y4_test, msg_test_target_predict,average='binary',pos_label=0))*100),2))\n",
    "print(\"Accuracy of Spam class is {}%\".format(round((recall_score(y4_test, msg_test_target_predict,average='binary',pos_label=1))*100),2))"
   ]
  }
 ],
 "metadata": {
  "kernelspec": {
   "display_name": "Python 3 (ipykernel)",
   "language": "python",
   "name": "python3"
  },
  "language_info": {
   "codemirror_mode": {
    "name": "ipython",
    "version": 3
   },
   "file_extension": ".py",
   "mimetype": "text/x-python",
   "name": "python",
   "nbconvert_exporter": "python",
   "pygments_lexer": "ipython3",
   "version": "3.9.12"
  }
 },
 "nbformat": 4,
 "nbformat_minor": 5
}
