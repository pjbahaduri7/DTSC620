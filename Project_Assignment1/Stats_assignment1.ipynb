{
 "cells": [
  {
   "cell_type": "markdown",
   "id": "1e7bc10f",
   "metadata": {},
   "source": [
    "<h4>All the required libraries to be imported</h4>"
   ]
  },
  {
   "cell_type": "code",
   "execution_count": 1,
   "id": "5060d8a9",
   "metadata": {},
   "outputs": [],
   "source": [
    "import pandas as pd\n",
    "import numpy as np\n",
    "import warnings\n",
    "warnings.filterwarnings(\"ignore\")\n",
    "from matplotlib import pyplot as plt\n",
    "import seaborn as sns\n",
    "from sklearn.model_selection import train_test_split\n",
    "from sklearn.ensemble import RandomForestClassifier\n",
    "from sklearn import tree\n",
    "from sklearn.preprocessing import LabelEncoder\n",
    "from sklearn.tree import DecisionTreeClassifier\n",
    "from sklearn.metrics import confusion_matrix, recall_score,classification_report,accuracy_score"
   ]
  },
  {
   "cell_type": "code",
   "execution_count": 2,
   "id": "f19125a1",
   "metadata": {
    "scrolled": true
   },
   "outputs": [
    {
     "data": {
      "text/html": [
       "<div>\n",
       "<style scoped>\n",
       "    .dataframe tbody tr th:only-of-type {\n",
       "        vertical-align: middle;\n",
       "    }\n",
       "\n",
       "    .dataframe tbody tr th {\n",
       "        vertical-align: top;\n",
       "    }\n",
       "\n",
       "    .dataframe thead th {\n",
       "        text-align: right;\n",
       "    }\n",
       "</style>\n",
       "<table border=\"1\" class=\"dataframe\">\n",
       "  <thead>\n",
       "    <tr style=\"text-align: right;\">\n",
       "      <th></th>\n",
       "      <th>make</th>\n",
       "      <th>address</th>\n",
       "      <th>all</th>\n",
       "      <th>3d</th>\n",
       "      <th>our</th>\n",
       "      <th>over</th>\n",
       "      <th>remove</th>\n",
       "      <th>internet</th>\n",
       "      <th>order</th>\n",
       "      <th>mail</th>\n",
       "      <th>...</th>\n",
       "      <th>semicol</th>\n",
       "      <th>paren</th>\n",
       "      <th>bracket</th>\n",
       "      <th>bang</th>\n",
       "      <th>dollar</th>\n",
       "      <th>pound</th>\n",
       "      <th>cap_avg</th>\n",
       "      <th>cap_long</th>\n",
       "      <th>cap_total</th>\n",
       "      <th>Class</th>\n",
       "    </tr>\n",
       "  </thead>\n",
       "  <tbody>\n",
       "    <tr>\n",
       "      <th>0</th>\n",
       "      <td>0.00</td>\n",
       "      <td>0.00</td>\n",
       "      <td>0.29</td>\n",
       "      <td>0.0</td>\n",
       "      <td>0.00</td>\n",
       "      <td>0.00</td>\n",
       "      <td>0.00</td>\n",
       "      <td>0.00</td>\n",
       "      <td>0.00</td>\n",
       "      <td>0.00</td>\n",
       "      <td>...</td>\n",
       "      <td>0.000</td>\n",
       "      <td>0.178</td>\n",
       "      <td>0.0</td>\n",
       "      <td>0.044</td>\n",
       "      <td>0.000</td>\n",
       "      <td>0.00</td>\n",
       "      <td>1.666</td>\n",
       "      <td>10</td>\n",
       "      <td>180</td>\n",
       "      <td>ham</td>\n",
       "    </tr>\n",
       "    <tr>\n",
       "      <th>1</th>\n",
       "      <td>0.46</td>\n",
       "      <td>0.00</td>\n",
       "      <td>0.00</td>\n",
       "      <td>0.0</td>\n",
       "      <td>0.00</td>\n",
       "      <td>0.00</td>\n",
       "      <td>0.00</td>\n",
       "      <td>0.00</td>\n",
       "      <td>0.00</td>\n",
       "      <td>0.00</td>\n",
       "      <td>...</td>\n",
       "      <td>0.000</td>\n",
       "      <td>0.125</td>\n",
       "      <td>0.0</td>\n",
       "      <td>0.000</td>\n",
       "      <td>0.000</td>\n",
       "      <td>0.00</td>\n",
       "      <td>1.510</td>\n",
       "      <td>10</td>\n",
       "      <td>74</td>\n",
       "      <td>ham</td>\n",
       "    </tr>\n",
       "    <tr>\n",
       "      <th>2</th>\n",
       "      <td>0.00</td>\n",
       "      <td>0.00</td>\n",
       "      <td>0.00</td>\n",
       "      <td>0.0</td>\n",
       "      <td>0.00</td>\n",
       "      <td>0.00</td>\n",
       "      <td>0.00</td>\n",
       "      <td>0.00</td>\n",
       "      <td>0.00</td>\n",
       "      <td>0.00</td>\n",
       "      <td>...</td>\n",
       "      <td>0.000</td>\n",
       "      <td>0.000</td>\n",
       "      <td>0.0</td>\n",
       "      <td>0.000</td>\n",
       "      <td>0.000</td>\n",
       "      <td>0.00</td>\n",
       "      <td>1.718</td>\n",
       "      <td>11</td>\n",
       "      <td>55</td>\n",
       "      <td>ham</td>\n",
       "    </tr>\n",
       "    <tr>\n",
       "      <th>3</th>\n",
       "      <td>0.33</td>\n",
       "      <td>0.44</td>\n",
       "      <td>0.37</td>\n",
       "      <td>0.0</td>\n",
       "      <td>0.14</td>\n",
       "      <td>0.11</td>\n",
       "      <td>0.00</td>\n",
       "      <td>0.07</td>\n",
       "      <td>0.97</td>\n",
       "      <td>1.16</td>\n",
       "      <td>...</td>\n",
       "      <td>0.006</td>\n",
       "      <td>0.159</td>\n",
       "      <td>0.0</td>\n",
       "      <td>0.069</td>\n",
       "      <td>0.221</td>\n",
       "      <td>0.11</td>\n",
       "      <td>3.426</td>\n",
       "      <td>72</td>\n",
       "      <td>819</td>\n",
       "      <td>spam</td>\n",
       "    </tr>\n",
       "    <tr>\n",
       "      <th>4</th>\n",
       "      <td>0.00</td>\n",
       "      <td>2.08</td>\n",
       "      <td>0.00</td>\n",
       "      <td>0.0</td>\n",
       "      <td>3.12</td>\n",
       "      <td>0.00</td>\n",
       "      <td>1.04</td>\n",
       "      <td>0.00</td>\n",
       "      <td>0.00</td>\n",
       "      <td>0.00</td>\n",
       "      <td>...</td>\n",
       "      <td>0.000</td>\n",
       "      <td>0.000</td>\n",
       "      <td>0.0</td>\n",
       "      <td>0.263</td>\n",
       "      <td>0.000</td>\n",
       "      <td>0.00</td>\n",
       "      <td>1.428</td>\n",
       "      <td>4</td>\n",
       "      <td>20</td>\n",
       "      <td>spam</td>\n",
       "    </tr>\n",
       "  </tbody>\n",
       "</table>\n",
       "<p>5 rows × 58 columns</p>\n",
       "</div>"
      ],
      "text/plain": [
       "   make  address   all   3d   our  over  remove  internet  order  mail  ...  \\\n",
       "0  0.00     0.00  0.29  0.0  0.00  0.00    0.00      0.00   0.00  0.00  ...   \n",
       "1  0.46     0.00  0.00  0.0  0.00  0.00    0.00      0.00   0.00  0.00  ...   \n",
       "2  0.00     0.00  0.00  0.0  0.00  0.00    0.00      0.00   0.00  0.00  ...   \n",
       "3  0.33     0.44  0.37  0.0  0.14  0.11    0.00      0.07   0.97  1.16  ...   \n",
       "4  0.00     2.08  0.00  0.0  3.12  0.00    1.04      0.00   0.00  0.00  ...   \n",
       "\n",
       "   semicol  paren  bracket   bang  dollar  pound  cap_avg  cap_long  \\\n",
       "0    0.000  0.178      0.0  0.044   0.000   0.00    1.666        10   \n",
       "1    0.000  0.125      0.0  0.000   0.000   0.00    1.510        10   \n",
       "2    0.000  0.000      0.0  0.000   0.000   0.00    1.718        11   \n",
       "3    0.006  0.159      0.0  0.069   0.221   0.11    3.426        72   \n",
       "4    0.000  0.000      0.0  0.263   0.000   0.00    1.428         4   \n",
       "\n",
       "   cap_total  Class  \n",
       "0        180    ham  \n",
       "1         74    ham  \n",
       "2         55    ham  \n",
       "3        819   spam  \n",
       "4         20   spam  \n",
       "\n",
       "[5 rows x 58 columns]"
      ]
     },
     "execution_count": 2,
     "metadata": {},
     "output_type": "execute_result"
    }
   ],
   "source": [
    "msg_dataframe = pd.read_csv(r\"C:\\Users\\pjbah\\Downloads\\spam.csv\")\n",
    "msg_dataframe.head()"
   ]
  },
  {
   "cell_type": "markdown",
   "id": "0f52bb50",
   "metadata": {},
   "source": [
    "<h4>Exploratory Data Analysis (EDA)</h4>"
   ]
  },
  {
   "cell_type": "code",
   "execution_count": 3,
   "id": "bb945cc6",
   "metadata": {
    "scrolled": true
   },
   "outputs": [
    {
     "data": {
      "text/plain": [
       "False"
      ]
     },
     "execution_count": 3,
     "metadata": {},
     "output_type": "execute_result"
    }
   ],
   "source": [
    "# To check whether there are any null values\n",
    "msg_dataframe.isna().any().all()"
   ]
  },
  {
   "cell_type": "code",
   "execution_count": 4,
   "id": "87a1878e",
   "metadata": {
    "scrolled": false
   },
   "outputs": [
    {
     "data": {
      "text/html": [
       "<div>\n",
       "<style scoped>\n",
       "    .dataframe tbody tr th:only-of-type {\n",
       "        vertical-align: middle;\n",
       "    }\n",
       "\n",
       "    .dataframe tbody tr th {\n",
       "        vertical-align: top;\n",
       "    }\n",
       "\n",
       "    .dataframe thead th {\n",
       "        text-align: right;\n",
       "    }\n",
       "</style>\n",
       "<table border=\"1\" class=\"dataframe\">\n",
       "  <thead>\n",
       "    <tr style=\"text-align: right;\">\n",
       "      <th></th>\n",
       "      <th>make</th>\n",
       "      <th>address</th>\n",
       "      <th>all</th>\n",
       "      <th>3d</th>\n",
       "      <th>our</th>\n",
       "      <th>over</th>\n",
       "      <th>remove</th>\n",
       "      <th>internet</th>\n",
       "      <th>order</th>\n",
       "      <th>mail</th>\n",
       "      <th>...</th>\n",
       "      <th>conference</th>\n",
       "      <th>semicol</th>\n",
       "      <th>paren</th>\n",
       "      <th>bracket</th>\n",
       "      <th>bang</th>\n",
       "      <th>dollar</th>\n",
       "      <th>pound</th>\n",
       "      <th>cap_avg</th>\n",
       "      <th>cap_long</th>\n",
       "      <th>cap_total</th>\n",
       "    </tr>\n",
       "  </thead>\n",
       "  <tbody>\n",
       "    <tr>\n",
       "      <th>count</th>\n",
       "      <td>4601.000000</td>\n",
       "      <td>4601.000000</td>\n",
       "      <td>4601.000000</td>\n",
       "      <td>4601.000000</td>\n",
       "      <td>4601.000000</td>\n",
       "      <td>4601.000000</td>\n",
       "      <td>4601.000000</td>\n",
       "      <td>4601.000000</td>\n",
       "      <td>4601.000000</td>\n",
       "      <td>4601.000000</td>\n",
       "      <td>...</td>\n",
       "      <td>4601.000000</td>\n",
       "      <td>4601.000000</td>\n",
       "      <td>4601.000000</td>\n",
       "      <td>4601.000000</td>\n",
       "      <td>4601.000000</td>\n",
       "      <td>4601.000000</td>\n",
       "      <td>4601.000000</td>\n",
       "      <td>4601.000000</td>\n",
       "      <td>4601.000000</td>\n",
       "      <td>4601.000000</td>\n",
       "    </tr>\n",
       "    <tr>\n",
       "      <th>mean</th>\n",
       "      <td>0.104553</td>\n",
       "      <td>0.213015</td>\n",
       "      <td>0.280656</td>\n",
       "      <td>0.065425</td>\n",
       "      <td>0.312223</td>\n",
       "      <td>0.095901</td>\n",
       "      <td>0.114208</td>\n",
       "      <td>0.105295</td>\n",
       "      <td>0.090067</td>\n",
       "      <td>0.239413</td>\n",
       "      <td>...</td>\n",
       "      <td>0.031869</td>\n",
       "      <td>0.038575</td>\n",
       "      <td>0.139030</td>\n",
       "      <td>0.016976</td>\n",
       "      <td>0.269071</td>\n",
       "      <td>0.075811</td>\n",
       "      <td>0.044238</td>\n",
       "      <td>5.191515</td>\n",
       "      <td>52.172789</td>\n",
       "      <td>283.289285</td>\n",
       "    </tr>\n",
       "    <tr>\n",
       "      <th>std</th>\n",
       "      <td>0.305358</td>\n",
       "      <td>1.290575</td>\n",
       "      <td>0.504143</td>\n",
       "      <td>1.395151</td>\n",
       "      <td>0.672513</td>\n",
       "      <td>0.273824</td>\n",
       "      <td>0.391441</td>\n",
       "      <td>0.401071</td>\n",
       "      <td>0.278616</td>\n",
       "      <td>0.644755</td>\n",
       "      <td>...</td>\n",
       "      <td>0.285735</td>\n",
       "      <td>0.243471</td>\n",
       "      <td>0.270355</td>\n",
       "      <td>0.109394</td>\n",
       "      <td>0.815672</td>\n",
       "      <td>0.245882</td>\n",
       "      <td>0.429342</td>\n",
       "      <td>31.729449</td>\n",
       "      <td>194.891310</td>\n",
       "      <td>606.347851</td>\n",
       "    </tr>\n",
       "    <tr>\n",
       "      <th>min</th>\n",
       "      <td>0.000000</td>\n",
       "      <td>0.000000</td>\n",
       "      <td>0.000000</td>\n",
       "      <td>0.000000</td>\n",
       "      <td>0.000000</td>\n",
       "      <td>0.000000</td>\n",
       "      <td>0.000000</td>\n",
       "      <td>0.000000</td>\n",
       "      <td>0.000000</td>\n",
       "      <td>0.000000</td>\n",
       "      <td>...</td>\n",
       "      <td>0.000000</td>\n",
       "      <td>0.000000</td>\n",
       "      <td>0.000000</td>\n",
       "      <td>0.000000</td>\n",
       "      <td>0.000000</td>\n",
       "      <td>0.000000</td>\n",
       "      <td>0.000000</td>\n",
       "      <td>1.000000</td>\n",
       "      <td>1.000000</td>\n",
       "      <td>1.000000</td>\n",
       "    </tr>\n",
       "    <tr>\n",
       "      <th>25%</th>\n",
       "      <td>0.000000</td>\n",
       "      <td>0.000000</td>\n",
       "      <td>0.000000</td>\n",
       "      <td>0.000000</td>\n",
       "      <td>0.000000</td>\n",
       "      <td>0.000000</td>\n",
       "      <td>0.000000</td>\n",
       "      <td>0.000000</td>\n",
       "      <td>0.000000</td>\n",
       "      <td>0.000000</td>\n",
       "      <td>...</td>\n",
       "      <td>0.000000</td>\n",
       "      <td>0.000000</td>\n",
       "      <td>0.000000</td>\n",
       "      <td>0.000000</td>\n",
       "      <td>0.000000</td>\n",
       "      <td>0.000000</td>\n",
       "      <td>0.000000</td>\n",
       "      <td>1.588000</td>\n",
       "      <td>6.000000</td>\n",
       "      <td>35.000000</td>\n",
       "    </tr>\n",
       "    <tr>\n",
       "      <th>50%</th>\n",
       "      <td>0.000000</td>\n",
       "      <td>0.000000</td>\n",
       "      <td>0.000000</td>\n",
       "      <td>0.000000</td>\n",
       "      <td>0.000000</td>\n",
       "      <td>0.000000</td>\n",
       "      <td>0.000000</td>\n",
       "      <td>0.000000</td>\n",
       "      <td>0.000000</td>\n",
       "      <td>0.000000</td>\n",
       "      <td>...</td>\n",
       "      <td>0.000000</td>\n",
       "      <td>0.000000</td>\n",
       "      <td>0.065000</td>\n",
       "      <td>0.000000</td>\n",
       "      <td>0.000000</td>\n",
       "      <td>0.000000</td>\n",
       "      <td>0.000000</td>\n",
       "      <td>2.276000</td>\n",
       "      <td>15.000000</td>\n",
       "      <td>95.000000</td>\n",
       "    </tr>\n",
       "    <tr>\n",
       "      <th>75%</th>\n",
       "      <td>0.000000</td>\n",
       "      <td>0.000000</td>\n",
       "      <td>0.420000</td>\n",
       "      <td>0.000000</td>\n",
       "      <td>0.380000</td>\n",
       "      <td>0.000000</td>\n",
       "      <td>0.000000</td>\n",
       "      <td>0.000000</td>\n",
       "      <td>0.000000</td>\n",
       "      <td>0.160000</td>\n",
       "      <td>...</td>\n",
       "      <td>0.000000</td>\n",
       "      <td>0.000000</td>\n",
       "      <td>0.188000</td>\n",
       "      <td>0.000000</td>\n",
       "      <td>0.315000</td>\n",
       "      <td>0.052000</td>\n",
       "      <td>0.000000</td>\n",
       "      <td>3.706000</td>\n",
       "      <td>43.000000</td>\n",
       "      <td>266.000000</td>\n",
       "    </tr>\n",
       "    <tr>\n",
       "      <th>max</th>\n",
       "      <td>4.540000</td>\n",
       "      <td>14.280000</td>\n",
       "      <td>5.100000</td>\n",
       "      <td>42.810000</td>\n",
       "      <td>10.000000</td>\n",
       "      <td>5.880000</td>\n",
       "      <td>7.270000</td>\n",
       "      <td>11.110000</td>\n",
       "      <td>5.260000</td>\n",
       "      <td>18.180000</td>\n",
       "      <td>...</td>\n",
       "      <td>10.000000</td>\n",
       "      <td>4.385000</td>\n",
       "      <td>9.752000</td>\n",
       "      <td>4.081000</td>\n",
       "      <td>32.478000</td>\n",
       "      <td>6.003000</td>\n",
       "      <td>19.829000</td>\n",
       "      <td>1102.500000</td>\n",
       "      <td>9989.000000</td>\n",
       "      <td>15841.000000</td>\n",
       "    </tr>\n",
       "  </tbody>\n",
       "</table>\n",
       "<p>8 rows × 57 columns</p>\n",
       "</div>"
      ],
      "text/plain": [
       "              make      address          all           3d          our  \\\n",
       "count  4601.000000  4601.000000  4601.000000  4601.000000  4601.000000   \n",
       "mean      0.104553     0.213015     0.280656     0.065425     0.312223   \n",
       "std       0.305358     1.290575     0.504143     1.395151     0.672513   \n",
       "min       0.000000     0.000000     0.000000     0.000000     0.000000   \n",
       "25%       0.000000     0.000000     0.000000     0.000000     0.000000   \n",
       "50%       0.000000     0.000000     0.000000     0.000000     0.000000   \n",
       "75%       0.000000     0.000000     0.420000     0.000000     0.380000   \n",
       "max       4.540000    14.280000     5.100000    42.810000    10.000000   \n",
       "\n",
       "              over       remove     internet        order         mail  ...  \\\n",
       "count  4601.000000  4601.000000  4601.000000  4601.000000  4601.000000  ...   \n",
       "mean      0.095901     0.114208     0.105295     0.090067     0.239413  ...   \n",
       "std       0.273824     0.391441     0.401071     0.278616     0.644755  ...   \n",
       "min       0.000000     0.000000     0.000000     0.000000     0.000000  ...   \n",
       "25%       0.000000     0.000000     0.000000     0.000000     0.000000  ...   \n",
       "50%       0.000000     0.000000     0.000000     0.000000     0.000000  ...   \n",
       "75%       0.000000     0.000000     0.000000     0.000000     0.160000  ...   \n",
       "max       5.880000     7.270000    11.110000     5.260000    18.180000  ...   \n",
       "\n",
       "        conference      semicol        paren      bracket         bang  \\\n",
       "count  4601.000000  4601.000000  4601.000000  4601.000000  4601.000000   \n",
       "mean      0.031869     0.038575     0.139030     0.016976     0.269071   \n",
       "std       0.285735     0.243471     0.270355     0.109394     0.815672   \n",
       "min       0.000000     0.000000     0.000000     0.000000     0.000000   \n",
       "25%       0.000000     0.000000     0.000000     0.000000     0.000000   \n",
       "50%       0.000000     0.000000     0.065000     0.000000     0.000000   \n",
       "75%       0.000000     0.000000     0.188000     0.000000     0.315000   \n",
       "max      10.000000     4.385000     9.752000     4.081000    32.478000   \n",
       "\n",
       "            dollar        pound      cap_avg     cap_long     cap_total  \n",
       "count  4601.000000  4601.000000  4601.000000  4601.000000   4601.000000  \n",
       "mean      0.075811     0.044238     5.191515    52.172789    283.289285  \n",
       "std       0.245882     0.429342    31.729449   194.891310    606.347851  \n",
       "min       0.000000     0.000000     1.000000     1.000000      1.000000  \n",
       "25%       0.000000     0.000000     1.588000     6.000000     35.000000  \n",
       "50%       0.000000     0.000000     2.276000    15.000000     95.000000  \n",
       "75%       0.052000     0.000000     3.706000    43.000000    266.000000  \n",
       "max       6.003000    19.829000  1102.500000  9989.000000  15841.000000  \n",
       "\n",
       "[8 rows x 57 columns]"
      ]
     },
     "execution_count": 4,
     "metadata": {},
     "output_type": "execute_result"
    }
   ],
   "source": [
    "msg_dataframe.describe()"
   ]
  },
  {
   "cell_type": "code",
   "execution_count": 5,
   "id": "f5ad680b",
   "metadata": {},
   "outputs": [
    {
     "data": {
      "text/plain": [
       "ham     2788\n",
       "spam    1813\n",
       "Name: Class, dtype: int64"
      ]
     },
     "execution_count": 5,
     "metadata": {},
     "output_type": "execute_result"
    }
   ],
   "source": [
    "# Gives the total count of each class variable\n",
    "spam_ham = msg_dataframe['Class'].value_counts()\n",
    "spam_ham"
   ]
  },
  {
   "cell_type": "markdown",
   "id": "02adeda9",
   "metadata": {},
   "source": [
    "<h4>DATA VISUALIZATION</h4>"
   ]
  },
  {
   "cell_type": "code",
   "execution_count": 6,
   "id": "cd0f086a",
   "metadata": {},
   "outputs": [
    {
     "data": {
      "image/png": "[encoded data removed]",
      "text/plain": [
       "<Figure size 432x288 with 1 Axes>"
      ]
     },
     "metadata": {},
     "output_type": "display_data"
    }
   ],
   "source": [
    "# Shows the percentage of ham and spam words or characters\n",
    "colors = sns.color_palette('pastel')\n",
    "labels = ['HAM', 'SPAM']\n",
    "plt.pie(spam_ham, labels = labels, colors = colors, autopct = '%0.0f%%')\n",
    "plt.show()"
   ]
  },
  {
   "cell_type": "code",
   "execution_count": 7,
   "id": "da644960",
   "metadata": {},
   "outputs": [],
   "source": [
    "# label encoding the class variables\n",
    "label_encoder = LabelEncoder()\n",
    "msg_dataframe['Class']= label_encoder.fit_transform(msg_dataframe['Class'])\n",
    "# ham 0 spam 1"
   ]
  },
  {
   "cell_type": "markdown",
   "id": "033720d6",
   "metadata": {},
   "source": [
    "<h4>Training the classifiers using 1000 instances, by keeping the test size as 0.78</h4>"
   ]
  },
  {
   "cell_type": "code",
   "execution_count": 8,
   "id": "c31cc952",
   "metadata": {},
   "outputs": [],
   "source": [
    "# Assigning a variable to target variable and feature set\n",
    "y=msg_dataframe[\"Class\"]\n",
    "msg_dataframe.drop(['Class'],axis=1,inplace=True)\n",
    "x=msg_dataframe"
   ]
  },
  {
   "cell_type": "code",
   "execution_count": 9,
   "id": "a4cd9e25",
   "metadata": {},
   "outputs": [],
   "source": [
    "# Splitting the train and test data\n",
    "X_train,X_test,y_train,y_test= train_test_split(x,y, test_size=0.78)"
   ]
  },
  {
   "cell_type": "code",
   "execution_count": 10,
   "id": "203253a6",
   "metadata": {
    "scrolled": false
   },
   "outputs": [
    {
     "name": "stdout",
     "output_type": "stream",
     "text": [
      "Training feature shape:  (1012, 57)\n",
      "Testing feature shape:  (3589, 57)\n"
     ]
    }
   ],
   "source": [
    "# Shows the shape of the train and test feature set\n",
    "print(\"Training feature shape: \", X_train.shape)\n",
    "print(\"Testing feature shape: \", X_test.shape)"
   ]
  },
  {
   "cell_type": "code",
   "execution_count": 11,
   "id": "6e187639",
   "metadata": {},
   "outputs": [
    {
     "data": {
      "text/html": [
       "<div>\n",
       "<style scoped>\n",
       "    .dataframe tbody tr th:only-of-type {\n",
       "        vertical-align: middle;\n",
       "    }\n",
       "\n",
       "    .dataframe tbody tr th {\n",
       "        vertical-align: top;\n",
       "    }\n",
       "\n",
       "    .dataframe thead th {\n",
       "        text-align: right;\n",
       "    }\n",
       "</style>\n",
       "<table border=\"1\" class=\"dataframe\">\n",
       "  <thead>\n",
       "    <tr style=\"text-align: right;\">\n",
       "      <th></th>\n",
       "      <th>make</th>\n",
       "      <th>address</th>\n",
       "      <th>all</th>\n",
       "      <th>3d</th>\n",
       "      <th>our</th>\n",
       "      <th>over</th>\n",
       "      <th>remove</th>\n",
       "      <th>internet</th>\n",
       "      <th>order</th>\n",
       "      <th>mail</th>\n",
       "      <th>...</th>\n",
       "      <th>conference</th>\n",
       "      <th>semicol</th>\n",
       "      <th>paren</th>\n",
       "      <th>bracket</th>\n",
       "      <th>bang</th>\n",
       "      <th>dollar</th>\n",
       "      <th>pound</th>\n",
       "      <th>cap_avg</th>\n",
       "      <th>cap_long</th>\n",
       "      <th>cap_total</th>\n",
       "    </tr>\n",
       "  </thead>\n",
       "  <tbody>\n",
       "    <tr>\n",
       "      <th>2651</th>\n",
       "      <td>0.00</td>\n",
       "      <td>0.0</td>\n",
       "      <td>0.00</td>\n",
       "      <td>0.0</td>\n",
       "      <td>0.00</td>\n",
       "      <td>0.0</td>\n",
       "      <td>0.00</td>\n",
       "      <td>0.0</td>\n",
       "      <td>0.0</td>\n",
       "      <td>0.0</td>\n",
       "      <td>...</td>\n",
       "      <td>0.0</td>\n",
       "      <td>0.0</td>\n",
       "      <td>0.000</td>\n",
       "      <td>0.0</td>\n",
       "      <td>0.000</td>\n",
       "      <td>0.0</td>\n",
       "      <td>0.0</td>\n",
       "      <td>1.000</td>\n",
       "      <td>1</td>\n",
       "      <td>8</td>\n",
       "    </tr>\n",
       "    <tr>\n",
       "      <th>1819</th>\n",
       "      <td>0.63</td>\n",
       "      <td>0.0</td>\n",
       "      <td>0.63</td>\n",
       "      <td>0.0</td>\n",
       "      <td>1.27</td>\n",
       "      <td>0.0</td>\n",
       "      <td>0.63</td>\n",
       "      <td>0.0</td>\n",
       "      <td>0.0</td>\n",
       "      <td>0.0</td>\n",
       "      <td>...</td>\n",
       "      <td>0.0</td>\n",
       "      <td>0.1</td>\n",
       "      <td>0.000</td>\n",
       "      <td>0.0</td>\n",
       "      <td>0.501</td>\n",
       "      <td>0.3</td>\n",
       "      <td>0.0</td>\n",
       "      <td>2.458</td>\n",
       "      <td>22</td>\n",
       "      <td>118</td>\n",
       "    </tr>\n",
       "    <tr>\n",
       "      <th>3296</th>\n",
       "      <td>0.34</td>\n",
       "      <td>0.0</td>\n",
       "      <td>0.00</td>\n",
       "      <td>0.0</td>\n",
       "      <td>0.00</td>\n",
       "      <td>0.0</td>\n",
       "      <td>0.00</td>\n",
       "      <td>0.0</td>\n",
       "      <td>0.0</td>\n",
       "      <td>0.0</td>\n",
       "      <td>...</td>\n",
       "      <td>0.0</td>\n",
       "      <td>0.0</td>\n",
       "      <td>0.432</td>\n",
       "      <td>0.0</td>\n",
       "      <td>0.000</td>\n",
       "      <td>0.0</td>\n",
       "      <td>0.0</td>\n",
       "      <td>1.526</td>\n",
       "      <td>11</td>\n",
       "      <td>87</td>\n",
       "    </tr>\n",
       "    <tr>\n",
       "      <th>2500</th>\n",
       "      <td>0.00</td>\n",
       "      <td>0.0</td>\n",
       "      <td>0.00</td>\n",
       "      <td>0.0</td>\n",
       "      <td>0.00</td>\n",
       "      <td>0.0</td>\n",
       "      <td>0.00</td>\n",
       "      <td>0.0</td>\n",
       "      <td>0.0</td>\n",
       "      <td>0.0</td>\n",
       "      <td>...</td>\n",
       "      <td>0.0</td>\n",
       "      <td>0.0</td>\n",
       "      <td>0.529</td>\n",
       "      <td>0.0</td>\n",
       "      <td>0.000</td>\n",
       "      <td>0.0</td>\n",
       "      <td>0.0</td>\n",
       "      <td>4.000</td>\n",
       "      <td>11</td>\n",
       "      <td>68</td>\n",
       "    </tr>\n",
       "    <tr>\n",
       "      <th>2492</th>\n",
       "      <td>0.00</td>\n",
       "      <td>0.0</td>\n",
       "      <td>0.00</td>\n",
       "      <td>0.0</td>\n",
       "      <td>0.00</td>\n",
       "      <td>0.0</td>\n",
       "      <td>0.00</td>\n",
       "      <td>0.0</td>\n",
       "      <td>0.0</td>\n",
       "      <td>0.0</td>\n",
       "      <td>...</td>\n",
       "      <td>0.0</td>\n",
       "      <td>0.0</td>\n",
       "      <td>0.000</td>\n",
       "      <td>0.0</td>\n",
       "      <td>0.000</td>\n",
       "      <td>0.0</td>\n",
       "      <td>0.0</td>\n",
       "      <td>3.333</td>\n",
       "      <td>7</td>\n",
       "      <td>20</td>\n",
       "    </tr>\n",
       "  </tbody>\n",
       "</table>\n",
       "<p>5 rows × 57 columns</p>\n",
       "</div>"
      ],
      "text/plain": [
       "      make  address   all   3d   our  over  remove  internet  order  mail  \\\n",
       "2651  0.00      0.0  0.00  0.0  0.00   0.0    0.00       0.0    0.0   0.0   \n",
       "1819  0.63      0.0  0.63  0.0  1.27   0.0    0.63       0.0    0.0   0.0   \n",
       "3296  0.34      0.0  0.00  0.0  0.00   0.0    0.00       0.0    0.0   0.0   \n",
       "2500  0.00      0.0  0.00  0.0  0.00   0.0    0.00       0.0    0.0   0.0   \n",
       "2492  0.00      0.0  0.00  0.0  0.00   0.0    0.00       0.0    0.0   0.0   \n",
       "\n",
       "      ...  conference  semicol  paren  bracket   bang  dollar  pound  cap_avg  \\\n",
       "2651  ...         0.0      0.0  0.000      0.0  0.000     0.0    0.0    1.000   \n",
       "1819  ...         0.0      0.1  0.000      0.0  0.501     0.3    0.0    2.458   \n",
       "3296  ...         0.0      0.0  0.432      0.0  0.000     0.0    0.0    1.526   \n",
       "2500  ...         0.0      0.0  0.529      0.0  0.000     0.0    0.0    4.000   \n",
       "2492  ...         0.0      0.0  0.000      0.0  0.000     0.0    0.0    3.333   \n",
       "\n",
       "      cap_long  cap_total  \n",
       "2651         1          8  \n",
       "1819        22        118  \n",
       "3296        11         87  \n",
       "2500        11         68  \n",
       "2492         7         20  \n",
       "\n",
       "[5 rows x 57 columns]"
      ]
     },
     "execution_count": 11,
     "metadata": {},
     "output_type": "execute_result"
    }
   ],
   "source": [
    "# Showcasing the first 5 rows of training data\n",
    "X_train.head()"
   ]
  },
  {
   "cell_type": "markdown",
   "id": "e00fa443",
   "metadata": {},
   "source": [
    "<h4>USING THE RANDOM FOREST CLASSIFIER</h4>"
   ]
  },
  {
   "cell_type": "code",
   "execution_count": 12,
   "id": "deac79a1",
   "metadata": {},
   "outputs": [
    {
     "data": {
      "text/plain": [
       "RandomForestClassifier()"
      ]
     },
     "execution_count": 12,
     "metadata": {},
     "output_type": "execute_result"
    }
   ],
   "source": [
    "# Training the Random Forest classifier over train data using 100 trees by setting the max features to auto\n",
    "clf = RandomForestClassifier(n_estimators = 100,max_features='auto')\n",
    "clf.fit(X_train, y_train)"
   ]
  },
  {
   "cell_type": "code",
   "execution_count": 13,
   "id": "01c52a3c",
   "metadata": {},
   "outputs": [],
   "source": [
    "# Performing the prediction over test data\n",
    "msg_test_target_predict=clf.predict(X_test)"
   ]
  },
  {
   "cell_type": "markdown",
   "id": "696dcc3f",
   "metadata": {},
   "source": [
    "### For multi class classification, per-class accuracy is the same as per-class recall"
   ]
  },
  {
   "cell_type": "code",
   "execution_count": 14,
   "id": "c874926e",
   "metadata": {},
   "outputs": [
    {
     "name": "stdout",
     "output_type": "stream",
     "text": [
      "---------RANDOM FOREST CLASSIFIER-------------\n",
      "CONFUSION MATRIX:\n",
      " [[2048   94]\n",
      " [ 145 1302]]\n",
      "TOTAL ACCURACY SCORE:93%\n",
      "Accuracy of Ham class is 96%\n",
      "Accuracy of Spam class is 90%\n"
     ]
    }
   ],
   "source": [
    "# Metrics performed on the test data\n",
    "print(\"---------RANDOM FOREST CLASSIFIER-------------\")\n",
    "print(\"CONFUSION MATRIX:\\n\", confusion_matrix(y_test, msg_test_target_predict))\n",
    "print(\"TOTAL ACCURACY SCORE:{}%\".format(round((accuracy_score(y_test, msg_test_target_predict))*100),2))\n",
    "print(\"Accuracy of Ham class is {}%\".format(round((recall_score(y_test, msg_test_target_predict,average='binary',pos_label=0))*100),2))\n",
    "print(\"Accuracy of Spam class is {}%\".format(round((recall_score(y_test, msg_test_target_predict,average='binary',pos_label=1))*100),2))"
   ]
  },
  {
   "cell_type": "code",
   "execution_count": 15,
   "id": "db60ca63",
   "metadata": {},
   "outputs": [
    {
     "data": {
      "text/plain": [
       "RandomForestClassifier(n_estimators=500)"
      ]
     },
     "execution_count": 15,
     "metadata": {},
     "output_type": "execute_result"
    }
   ],
   "source": [
    "# Training the Random Forest classifier over train data using 500 trees by setting the max features to auto\n",
    "clf = RandomForestClassifier(n_estimators = 500,max_features='auto')\n",
    "clf.fit(X_train, y_train)"
   ]
  },
  {
   "cell_type": "code",
   "execution_count": 16,
   "id": "c3b97ba8",
   "metadata": {},
   "outputs": [],
   "source": [
    "# Performing the prediction over test data\n",
    "msg_test_target_predict=clf.predict(X_test)"
   ]
  },
  {
   "cell_type": "code",
   "execution_count": 17,
   "id": "7fbb433c",
   "metadata": {},
   "outputs": [
    {
     "name": "stdout",
     "output_type": "stream",
     "text": [
      "---------RANDOM FOREST CLASSIFIER-------------\n",
      "CONFUSION MATRIX:\n",
      " [[2056   86]\n",
      " [ 147 1300]]\n",
      "TOTAL ACCURACY SCORE:94%\n",
      "Accuracy of Ham class is 96%\n",
      "Accuracy of Spam class is 90%\n"
     ]
    }
   ],
   "source": [
    "# Metrics performed on the test data\n",
    "print(\"---------RANDOM FOREST CLASSIFIER-------------\")\n",
    "print(\"CONFUSION MATRIX:\\n\", confusion_matrix(y_test, msg_test_target_predict))\n",
    "print(\"TOTAL ACCURACY SCORE:{}%\".format(round((accuracy_score(y_test, msg_test_target_predict))*100),2))\n",
    "print(\"Accuracy of Ham class is {}%\".format(round((recall_score(y_test, msg_test_target_predict,average='binary',pos_label=0))*100),2))\n",
    "print(\"Accuracy of Spam class is {}%\".format(round((recall_score(y_test, msg_test_target_predict,average='binary',pos_label=1))*100),2))"
   ]
  },
  {
   "cell_type": "code",
   "execution_count": 18,
   "id": "27b7b7b4",
   "metadata": {},
   "outputs": [
    {
     "data": {
      "text/plain": [
       "RandomForestClassifier(n_estimators=1000)"
      ]
     },
     "execution_count": 18,
     "metadata": {},
     "output_type": "execute_result"
    }
   ],
   "source": [
    "# Training the Random Forest classifier over train data using 1000 trees by setting the max features to auto\n",
    "clf = RandomForestClassifier(n_estimators = 1000,max_features='auto')\n",
    "clf.fit(X_train, y_train)"
   ]
  },
  {
   "cell_type": "code",
   "execution_count": 19,
   "id": "45753d14",
   "metadata": {},
   "outputs": [],
   "source": [
    "# Performing the prediction over test data\n",
    "msg_test_target_predict=clf.predict(X_test)"
   ]
  },
  {
   "cell_type": "code",
   "execution_count": 20,
   "id": "859a8e20",
   "metadata": {},
   "outputs": [
    {
     "name": "stdout",
     "output_type": "stream",
     "text": [
      "---------RANDOM FOREST CLASSIFIER-------------\n",
      "CONFUSION MATRIX:\n",
      " [[2054   88]\n",
      " [ 148 1299]]\n",
      "TOTAL ACCURACY SCORE:93%\n",
      "Accuracy of Ham class is 96%\n",
      "Accuracy of Spam class is 90%\n"
     ]
    }
   ],
   "source": [
    "# Metrics performed on the test data\n",
    "print(\"---------RANDOM FOREST CLASSIFIER-------------\")\n",
    "print(\"CONFUSION MATRIX:\\n\", confusion_matrix(y_test, msg_test_target_predict))\n",
    "print(\"TOTAL ACCURACY SCORE:{}%\".format(round((accuracy_score(y_test, msg_test_target_predict))*100),2))\n",
    "print(\"Accuracy of Ham class is {}%\".format(round((recall_score(y_test, msg_test_target_predict,average='binary',pos_label=0))*100),2))\n",
    "print(\"Accuracy of Spam class is {}%\".format(round((recall_score(y_test, msg_test_target_predict,average='binary',pos_label=1))*100),2))"
   ]
  },
  {
   "cell_type": "code",
   "execution_count": 21,
   "id": "c41e3bf2",
   "metadata": {},
   "outputs": [
    {
     "data": {
      "text/plain": [
       "RandomForestClassifier(max_features='sqrt')"
      ]
     },
     "execution_count": 21,
     "metadata": {},
     "output_type": "execute_result"
    }
   ],
   "source": [
    "# Training the Random Forest classifier over train data using 100 trees by setting the max features to sqrt\n",
    "clf = RandomForestClassifier(n_estimators = 100,max_features='sqrt')\n",
    "clf.fit(X_train, y_train)"
   ]
  },
  {
   "cell_type": "code",
   "execution_count": 22,
   "id": "51e0553f",
   "metadata": {},
   "outputs": [],
   "source": [
    "# Performing the prediction over test data\n",
    "msg_test_target_predict=clf.predict(X_test)"
   ]
  },
  {
   "cell_type": "code",
   "execution_count": 23,
   "id": "795180d0",
   "metadata": {},
   "outputs": [
    {
     "name": "stdout",
     "output_type": "stream",
     "text": [
      "---------RANDOM FOREST CLASSIFIER-------------\n",
      "CONFUSION MATRIX:\n",
      " [[2055   87]\n",
      " [ 149 1298]]\n",
      "TOTAL ACCURACY SCORE:93%\n",
      "Accuracy of Ham class is 96%\n",
      "Accuracy of Spam class is 90%\n"
     ]
    }
   ],
   "source": [
    "# Metrics performed on the test data\n",
    "print(\"---------RANDOM FOREST CLASSIFIER-------------\")\n",
    "print(\"CONFUSION MATRIX:\\n\", confusion_matrix(y_test, msg_test_target_predict))\n",
    "print(\"TOTAL ACCURACY SCORE:{}%\".format(round((accuracy_score(y_test, msg_test_target_predict))*100),2))\n",
    "print(\"Accuracy of Ham class is {}%\".format(round((recall_score(y_test, msg_test_target_predict,average='binary',pos_label=0))*100),2))\n",
    "print(\"Accuracy of Spam class is {}%\".format(round((recall_score(y_test, msg_test_target_predict,average='binary',pos_label=1))*100),2))"
   ]
  },
  {
   "cell_type": "code",
   "execution_count": 24,
   "id": "3f781cda",
   "metadata": {},
   "outputs": [
    {
     "data": {
      "text/plain": [
       "RandomForestClassifier(max_features='sqrt', n_estimators=500)"
      ]
     },
     "execution_count": 24,
     "metadata": {},
     "output_type": "execute_result"
    }
   ],
   "source": [
    "# Training the Random Forest classifier over train data using 500 trees by setting the max features to sqrt\n",
    "clf = RandomForestClassifier(n_estimators = 500,max_features='sqrt')\n",
    "clf.fit(X_train, y_train)"
   ]
  },
  {
   "cell_type": "code",
   "execution_count": 25,
   "id": "98dc9f71",
   "metadata": {},
   "outputs": [],
   "source": [
    "# Performing the prediction over test data\n",
    "msg_test_target_predict=clf.predict(X_test)"
   ]
  },
  {
   "cell_type": "code",
   "execution_count": 26,
   "id": "ff8aff52",
   "metadata": {},
   "outputs": [
    {
     "name": "stdout",
     "output_type": "stream",
     "text": [
      "---------RANDOM FOREST CLASSIFIER-------------\n",
      "CONFUSION MATRIX:\n",
      " [[2055   87]\n",
      " [ 144 1303]]\n",
      "TOTAL ACCURACY SCORE:94%\n",
      "Accuracy of Ham class is 96%\n",
      "Accuracy of Spam class is 90%\n"
     ]
    }
   ],
   "source": [
    "# Metrics performed on the test data\n",
    "print(\"---------RANDOM FOREST CLASSIFIER-------------\")\n",
    "print(\"CONFUSION MATRIX:\\n\", confusion_matrix(y_test, msg_test_target_predict))\n",
    "print(\"TOTAL ACCURACY SCORE:{}%\".format(round((accuracy_score(y_test, msg_test_target_predict))*100),2))\n",
    "print(\"Accuracy of Ham class is {}%\".format(round((recall_score(y_test, msg_test_target_predict,average='binary',pos_label=0))*100),2))\n",
    "print(\"Accuracy of Spam class is {}%\".format(round((recall_score(y_test, msg_test_target_predict,average='binary',pos_label=1))*100),2))"
   ]
  },
  {
   "cell_type": "code",
   "execution_count": 27,
   "id": "9da25dea",
   "metadata": {},
   "outputs": [
    {
     "data": {
      "text/plain": [
       "RandomForestClassifier(max_features='sqrt', n_estimators=1000)"
      ]
     },
     "execution_count": 27,
     "metadata": {},
     "output_type": "execute_result"
    }
   ],
   "source": [
    "# Training the Random Forest classifier over train data using 1000 trees by setting the max features to sqrt\n",
    "clf = RandomForestClassifier(n_estimators = 1000,max_features='sqrt')\n",
    "clf.fit(X_train, y_train)"
   ]
  },
  {
   "cell_type": "code",
   "execution_count": 28,
   "id": "f47f9df2",
   "metadata": {},
   "outputs": [],
   "source": [
    "# Performing the prediction over test data\n",
    "msg_test_target_predict=clf.predict(X_test)"
   ]
  },
  {
   "cell_type": "code",
   "execution_count": 29,
   "id": "7b8340e0",
   "metadata": {},
   "outputs": [
    {
     "name": "stdout",
     "output_type": "stream",
     "text": [
      "---------RANDOM FOREST CLASSIFIER-------------\n",
      "CONFUSION MATRIX:\n",
      " [[2054   88]\n",
      " [ 142 1305]]\n",
      "TOTAL ACCURACY SCORE:94%\n",
      "Accuracy of Ham class is 96%\n",
      "Accuracy of Spam class is 90%\n"
     ]
    }
   ],
   "source": [
    "# Metrics performed on the test data\n",
    "print(\"---------RANDOM FOREST CLASSIFIER-------------\")\n",
    "print(\"CONFUSION MATRIX:\\n\", confusion_matrix(y_test, msg_test_target_predict))\n",
    "print(\"TOTAL ACCURACY SCORE:{}%\".format(round((accuracy_score(y_test, msg_test_target_predict))*100),2))\n",
    "print(\"Accuracy of Ham class is {}%\".format(round((recall_score(y_test, msg_test_target_predict,average='binary',pos_label=0))*100),2))\n",
    "print(\"Accuracy of Spam class is {}%\".format(round((recall_score(y_test, msg_test_target_predict,average='binary',pos_label=1))*100),2))"
   ]
  },
  {
   "cell_type": "markdown",
   "id": "3025dba1",
   "metadata": {},
   "source": [
    "<h4>USING THE DECISION TREE CLASSIFIER</h4>"
   ]
  },
  {
   "cell_type": "code",
   "execution_count": 30,
   "id": "f022e5ec",
   "metadata": {},
   "outputs": [
    {
     "data": {
      "text/plain": [
       "DecisionTreeClassifier(criterion='entropy')"
      ]
     },
     "execution_count": 30,
     "metadata": {},
     "output_type": "execute_result"
    }
   ],
   "source": [
    "# Training the Decision tree over train data by keeping the criterion as entropy\n",
    "clf2 = DecisionTreeClassifier(criterion = \"entropy\")\n",
    "clf2.fit(X_train, y_train)"
   ]
  },
  {
   "cell_type": "code",
   "execution_count": 31,
   "id": "f8e5336b",
   "metadata": {},
   "outputs": [],
   "source": [
    "# Performing the prediction over test data\n",
    "msg_test_target_predict=clf2.predict(X_test)"
   ]
  },
  {
   "cell_type": "code",
   "execution_count": 32,
   "id": "c25ab348",
   "metadata": {},
   "outputs": [
    {
     "name": "stdout",
     "output_type": "stream",
     "text": [
      "---------DECISION TREE CLASSIFIER-------------\n",
      "CONFUSION MATRIX:\n",
      " [[1936  206]\n",
      " [ 215 1232]]\n",
      "TOTAL ACCURACY SCORE:88%\n",
      "Accuracy of Ham class is 90%\n",
      "Accuracy of Spam class is 85%\n"
     ]
    }
   ],
   "source": [
    "# Metrics performed on the test data\n",
    "print(\"---------DECISION TREE CLASSIFIER-------------\")\n",
    "print(\"CONFUSION MATRIX:\\n\", confusion_matrix(y_test, msg_test_target_predict))\n",
    "print(\"TOTAL ACCURACY SCORE:{}%\".format(round((accuracy_score(y_test, msg_test_target_predict))*100),2))\n",
    "print(\"Accuracy of Ham class is {}%\".format(round((recall_score(y_test, msg_test_target_predict,average='binary',pos_label=0))*100),2))\n",
    "print(\"Accuracy of Spam class is {}%\".format(round((recall_score(y_test, msg_test_target_predict,average='binary',pos_label=1))*100),2))"
   ]
  },
  {
   "cell_type": "markdown",
   "id": "5b024cc5",
   "metadata": {},
   "source": [
    "<h4>Doing the vice versa, by taking test size as 0.22</h4>\n",
    "<p>NOTE: We normally take more instances for training data, so I have tried to train the classifiers that way too.</p>"
   ]
  },
  {
   "cell_type": "code",
   "execution_count": 33,
   "id": "b9849e6b",
   "metadata": {},
   "outputs": [],
   "source": [
    "# Splitting the train and test data by keeping the test size as 0.22\n",
    "X_train,X_test,y_train,y_test= train_test_split(x,y, test_size=0.22)"
   ]
  },
  {
   "cell_type": "code",
   "execution_count": 34,
   "id": "d13ac75c",
   "metadata": {},
   "outputs": [
    {
     "data": {
      "text/plain": [
       "RandomForestClassifier()"
      ]
     },
     "execution_count": 34,
     "metadata": {},
     "output_type": "execute_result"
    }
   ],
   "source": [
    "# Training the Random Forest classifier over train data using 100 trees by setting the max features to auto\n",
    "clf = RandomForestClassifier(n_estimators = 100,max_features='auto')\n",
    "clf.fit(X_train, y_train)"
   ]
  },
  {
   "cell_type": "code",
   "execution_count": 35,
   "id": "563a3a56",
   "metadata": {},
   "outputs": [],
   "source": [
    "# Performing the prediction over test data\n",
    "msg_test_target_predict = clf.predict(X_test)"
   ]
  },
  {
   "cell_type": "code",
   "execution_count": 36,
   "id": "c4286652",
   "metadata": {},
   "outputs": [
    {
     "name": "stdout",
     "output_type": "stream",
     "text": [
      "---------RANDOM FOREST CLASSIFIER-------------\n",
      "CONFUSION MATRIX:\n",
      " [[592  20]\n",
      " [ 29 372]]\n",
      "TOTAL ACCURACY SCORE:95%\n",
      "Accuracy of Ham class is 97%\n",
      "Accuracy of Spam class is 93%\n"
     ]
    }
   ],
   "source": [
    "# Metrics to be performed on test data\n",
    "print(\"---------RANDOM FOREST CLASSIFIER-------------\")\n",
    "print(\"CONFUSION MATRIX:\\n\", confusion_matrix(y_test, msg_test_target_predict))\n",
    "print(\"TOTAL ACCURACY SCORE:{}%\".format(round((accuracy_score(y_test, msg_test_target_predict))*100),2))\n",
    "print(\"Accuracy of Ham class is {}%\".format(round((recall_score(y_test, msg_test_target_predict,average='binary',pos_label=0))*100),2))\n",
    "print(\"Accuracy of Spam class is {}%\".format(round((recall_score(y_test, msg_test_target_predict,average='binary',pos_label=1))*100),2))"
   ]
  },
  {
   "cell_type": "code",
   "execution_count": 37,
   "id": "eb36ea70",
   "metadata": {},
   "outputs": [
    {
     "data": {
      "text/plain": [
       "RandomForestClassifier(n_estimators=500)"
      ]
     },
     "execution_count": 37,
     "metadata": {},
     "output_type": "execute_result"
    }
   ],
   "source": [
    "# Training the Random Forest classifier over train data using 500 trees by setting the max features to auto\n",
    "clf = RandomForestClassifier(n_estimators = 500,max_features='auto')\n",
    "clf.fit(X_train, y_train)"
   ]
  },
  {
   "cell_type": "code",
   "execution_count": 38,
   "id": "aea26696",
   "metadata": {},
   "outputs": [],
   "source": [
    "# Performing the prediction over test data\n",
    "msg_test_target_predict = clf.predict(X_test)"
   ]
  },
  {
   "cell_type": "code",
   "execution_count": 39,
   "id": "02ab2a37",
   "metadata": {},
   "outputs": [
    {
     "name": "stdout",
     "output_type": "stream",
     "text": [
      "---------RANDOM FOREST CLASSIFIER-------------\n",
      "CONFUSION MATRIX:\n",
      " [[593  19]\n",
      " [ 25 376]]\n",
      "TOTAL ACCURACY SCORE:96%\n",
      "Accuracy of Ham class is 97%\n",
      "Accuracy of Spam class is 94%\n"
     ]
    }
   ],
   "source": [
    "# Metrics to be performed on test data\n",
    "print(\"---------RANDOM FOREST CLASSIFIER-------------\")\n",
    "print(\"CONFUSION MATRIX:\\n\", confusion_matrix(y_test, msg_test_target_predict))\n",
    "print(\"TOTAL ACCURACY SCORE:{}%\".format(round((accuracy_score(y_test, msg_test_target_predict))*100),2))\n",
    "print(\"Accuracy of Ham class is {}%\".format(round((recall_score(y_test, msg_test_target_predict,average='binary',pos_label=0))*100),2))\n",
    "print(\"Accuracy of Spam class is {}%\".format(round((recall_score(y_test, msg_test_target_predict,average='binary',pos_label=1))*100),2))\n"
   ]
  },
  {
   "cell_type": "code",
   "execution_count": 40,
   "id": "4b7e7a7b",
   "metadata": {},
   "outputs": [
    {
     "data": {
      "text/plain": [
       "RandomForestClassifier(n_estimators=1000)"
      ]
     },
     "execution_count": 40,
     "metadata": {},
     "output_type": "execute_result"
    }
   ],
   "source": [
    "# Training the Random Forest classifier over train data using 1000 trees by setting the max features to auto\n",
    "clf = RandomForestClassifier(n_estimators = 1000,max_features='auto')\n",
    "clf.fit(X_train, y_train)"
   ]
  },
  {
   "cell_type": "code",
   "execution_count": 41,
   "id": "4164b0d3",
   "metadata": {},
   "outputs": [],
   "source": [
    "# Performing the prediction over test data\n",
    "msg_test_target_predict = clf.predict(X_test)"
   ]
  },
  {
   "cell_type": "code",
   "execution_count": 42,
   "id": "ea6ab45e",
   "metadata": {},
   "outputs": [
    {
     "name": "stdout",
     "output_type": "stream",
     "text": [
      "---------RANDOM FOREST CLASSIFIER-------------\n",
      "CONFUSION MATRIX:\n",
      " [[593  19]\n",
      " [ 25 376]]\n",
      "TOTAL ACCURACY SCORE:96%\n",
      "Accuracy of Ham class is 97%\n",
      "Accuracy of Spam class is 94%\n"
     ]
    }
   ],
   "source": [
    "# Metrics to be performed on test data\n",
    "print(\"---------RANDOM FOREST CLASSIFIER-------------\")\n",
    "print(\"CONFUSION MATRIX:\\n\", confusion_matrix(y_test, msg_test_target_predict))\n",
    "print(\"TOTAL ACCURACY SCORE:{}%\".format(round((accuracy_score(y_test, msg_test_target_predict))*100),2))\n",
    "print(\"Accuracy of Ham class is {}%\".format(round((recall_score(y_test, msg_test_target_predict,average='binary',pos_label=0))*100),2))\n",
    "print(\"Accuracy of Spam class is {}%\".format(round((recall_score(y_test, msg_test_target_predict,average='binary',pos_label=1))*100),2))\n"
   ]
  },
  {
   "cell_type": "code",
   "execution_count": 43,
   "id": "e6e28df1",
   "metadata": {},
   "outputs": [
    {
     "data": {
      "text/plain": [
       "RandomForestClassifier(max_features='sqrt')"
      ]
     },
     "execution_count": 43,
     "metadata": {},
     "output_type": "execute_result"
    }
   ],
   "source": [
    "# Training the Random Forest classifier over train data using 100 trees by setting the max features to sqrt\n",
    "clf = RandomForestClassifier(n_estimators = 100,max_features='sqrt')\n",
    "clf.fit(X_train, y_train)"
   ]
  },
  {
   "cell_type": "code",
   "execution_count": 44,
   "id": "08d877c4",
   "metadata": {},
   "outputs": [],
   "source": [
    "# Performing the prediction over test data\n",
    "msg_test_target_predict = clf.predict(X_test)"
   ]
  },
  {
   "cell_type": "code",
   "execution_count": 45,
   "id": "6dc612c8",
   "metadata": {},
   "outputs": [
    {
     "name": "stdout",
     "output_type": "stream",
     "text": [
      "---------RANDOM FOREST CLASSIFIER-------------\n",
      "CONFUSION MATRIX:\n",
      " [[591  21]\n",
      " [ 24 377]]\n",
      "TOTAL ACCURACY SCORE:96%\n",
      "Accuracy of Ham class is 97%\n",
      "Accuracy of Spam class is 94%\n"
     ]
    }
   ],
   "source": [
    "# Metrics to be performed on test data\n",
    "print(\"---------RANDOM FOREST CLASSIFIER-------------\")\n",
    "print(\"CONFUSION MATRIX:\\n\", confusion_matrix(y_test, msg_test_target_predict))\n",
    "print(\"TOTAL ACCURACY SCORE:{}%\".format(round((accuracy_score(y_test, msg_test_target_predict))*100),2))\n",
    "print(\"Accuracy of Ham class is {}%\".format(round((recall_score(y_test, msg_test_target_predict,average='binary',pos_label=0))*100),2))\n",
    "print(\"Accuracy of Spam class is {}%\".format(round((recall_score(y_test, msg_test_target_predict,average='binary',pos_label=1))*100),2))\n"
   ]
  },
  {
   "cell_type": "code",
   "execution_count": 46,
   "id": "e8a1c6f9",
   "metadata": {},
   "outputs": [
    {
     "data": {
      "text/plain": [
       "RandomForestClassifier(max_features='sqrt', n_estimators=500)"
      ]
     },
     "execution_count": 46,
     "metadata": {},
     "output_type": "execute_result"
    }
   ],
   "source": [
    "# Training the Random Forest classifier over train data using 500 trees by setting the max features to sqrt\n",
    "clf = RandomForestClassifier(n_estimators = 500,max_features='sqrt')\n",
    "clf.fit(X_train, y_train)"
   ]
  },
  {
   "cell_type": "code",
   "execution_count": 47,
   "id": "d9c21132",
   "metadata": {},
   "outputs": [],
   "source": [
    "# Performing the prediction over test data\n",
    "msg_test_target_predict = clf.predict(X_test)"
   ]
  },
  {
   "cell_type": "code",
   "execution_count": 48,
   "id": "92132a03",
   "metadata": {},
   "outputs": [
    {
     "name": "stdout",
     "output_type": "stream",
     "text": [
      "---------RANDOM FOREST CLASSIFIER-------------\n",
      "CONFUSION MATRIX:\n",
      " [[591  21]\n",
      " [ 26 375]]\n",
      "TOTAL ACCURACY SCORE:95%\n",
      "Accuracy of Ham class is 97%\n",
      "Accuracy of Spam class is 94%\n"
     ]
    }
   ],
   "source": [
    "# Metrics to be performed on test data\n",
    "print(\"---------RANDOM FOREST CLASSIFIER-------------\")\n",
    "print(\"CONFUSION MATRIX:\\n\", confusion_matrix(y_test, msg_test_target_predict))\n",
    "print(\"TOTAL ACCURACY SCORE:{}%\".format(round((accuracy_score(y_test, msg_test_target_predict))*100),2))\n",
    "print(\"Accuracy of Ham class is {}%\".format(round((recall_score(y_test, msg_test_target_predict,average='binary',pos_label=0))*100),2))\n",
    "print(\"Accuracy of Spam class is {}%\".format(round((recall_score(y_test, msg_test_target_predict,average='binary',pos_label=1))*100),2))\n"
   ]
  },
  {
   "cell_type": "code",
   "execution_count": 49,
   "id": "1ebd1544",
   "metadata": {},
   "outputs": [
    {
     "data": {
      "text/plain": [
       "RandomForestClassifier(max_features='sqrt', n_estimators=1000)"
      ]
     },
     "execution_count": 49,
     "metadata": {},
     "output_type": "execute_result"
    }
   ],
   "source": [
    "# Training the Random Forest classifier over train data using 1000 trees by setting the max features to sqrt\n",
    "clf = RandomForestClassifier(n_estimators = 1000,max_features='sqrt')\n",
    "clf.fit(X_train, y_train)"
   ]
  },
  {
   "cell_type": "code",
   "execution_count": 50,
   "id": "873a07c6",
   "metadata": {},
   "outputs": [],
   "source": [
    "# Performing the prediction over test data\n",
    "msg_test_target_predict = clf.predict(X_test)"
   ]
  },
  {
   "cell_type": "code",
   "execution_count": 51,
   "id": "4026a2da",
   "metadata": {},
   "outputs": [
    {
     "name": "stdout",
     "output_type": "stream",
     "text": [
      "---------RANDOM FOREST CLASSIFIER-------------\n",
      "CONFUSION MATRIX:\n",
      " [[592  20]\n",
      " [ 26 375]]\n",
      "TOTAL ACCURACY SCORE:95%\n",
      "Accuracy of Ham class is 97%\n",
      "Accuracy of Spam class is 94%\n"
     ]
    }
   ],
   "source": [
    "# Metrics to be performed on test data\n",
    "print(\"---------RANDOM FOREST CLASSIFIER-------------\")\n",
    "print(\"CONFUSION MATRIX:\\n\", confusion_matrix(y_test, msg_test_target_predict))\n",
    "print(\"TOTAL ACCURACY SCORE:{}%\".format(round((accuracy_score(y_test, msg_test_target_predict))*100),2))\n",
    "print(\"Accuracy of Ham class is {}%\".format(round((recall_score(y_test, msg_test_target_predict,average='binary',pos_label=0))*100),2))\n",
    "print(\"Accuracy of Spam class is {}%\".format(round((recall_score(y_test, msg_test_target_predict,average='binary',pos_label=1))*100),2))\n"
   ]
  },
  {
   "cell_type": "code",
   "execution_count": 52,
   "id": "a6054688",
   "metadata": {},
   "outputs": [
    {
     "data": {
      "text/plain": [
       "DecisionTreeClassifier(criterion='entropy')"
      ]
     },
     "execution_count": 52,
     "metadata": {},
     "output_type": "execute_result"
    }
   ],
   "source": [
    "# Training the Decision tree over train data by keeping the criterion as entropy\n",
    "clf2 = DecisionTreeClassifier(criterion = \"entropy\")\n",
    "clf2.fit(X_train, y_train)"
   ]
  },
  {
   "cell_type": "code",
   "execution_count": 53,
   "id": "1cfe5f09",
   "metadata": {},
   "outputs": [],
   "source": [
    "# Performing the prediction over test data\n",
    "msg_test_target_predict= clf2.predict(X_test)"
   ]
  },
  {
   "cell_type": "code",
   "execution_count": 54,
   "id": "829f897a",
   "metadata": {},
   "outputs": [
    {
     "name": "stdout",
     "output_type": "stream",
     "text": [
      "---------DECISION TREE CLASSIFIER-------------\n",
      "CONFUSION MATRIX:\n",
      " [[575  37]\n",
      " [ 40 361]]\n",
      "TOTAL ACCURACY SCORE:92%\n",
      "Accuracy of Ham class is 94%\n",
      "Accuracy of Spam class is 90%\n"
     ]
    }
   ],
   "source": [
    "# Metrics to be performed on test data\n",
    "print(\"---------DECISION TREE CLASSIFIER-------------\")\n",
    "print(\"CONFUSION MATRIX:\\n\", confusion_matrix(y_test, msg_test_target_predict))\n",
    "print(\"TOTAL ACCURACY SCORE:{}%\".format(round((accuracy_score(y_test, msg_test_target_predict))*100),2))\n",
    "print(\"Accuracy of Ham class is {}%\".format(round((recall_score(y_test, msg_test_target_predict,average='binary',pos_label=0))*100),2))\n",
    "print(\"Accuracy of Spam class is {}%\".format(round((recall_score(y_test, msg_test_target_predict,average='binary',pos_label=1))*100),2))"
   ]
  }
 ],
 "metadata": {
  "kernelspec": {
   "display_name": "Python 3 (ipykernel)",
   "language": "python",
   "name": "python3"
  },
  "language_info": {
   "codemirror_mode": {
    "name": "ipython",
    "version": 3
   },
   "file_extension": ".py",
   "mimetype": "text/x-python",
   "name": "python",
   "nbconvert_exporter": "python",
   "pygments_lexer": "ipython3",
   "version": "3.9.12"
  }
 },
 "nbformat": 4,
 "nbformat_minor": 5
}
